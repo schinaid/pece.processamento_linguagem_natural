<html><head>
<meta http-equiv="content-type" content="text/html; charset=UTF-8"></head><body>{
  "nbformat": 4,
  "nbformat_minor": 0,
  "metadata": {
    "colab": {
      "provenance": []
    },
    "kernelspec": {
      "name": "python3",
      "display_name": "Python 3"
    },
    "language_info": {
      "name": "python"
    }
  },
  "cells": [
    {
      "cell_type": "markdown",
      "source": [
        "Marcos Lopes (PECE/USP) -- 2025"
      ],
      "metadata": {
        "id": "nhawfho7P8R0"
      }
    },
    {
      "cell_type": "code",
      "source": [
        "def ler(nome_arquivo) -&gt; str:\n",
        "    with open(nome_arquivo) as arquivo:\n",
        "        return arquivo.read()"
      ],
      "metadata": {
        "id": "B4nuU0Hu3euq"
      },
      "execution_count": null,
      "outputs": []
    },
    {
      "cell_type": "code",
      "source": [
        "from google.colab import files\n",
        "\n",
        "uploaded = files.upload()"
      ],
      "metadata": {
        "colab": {
          "base_uri": "https://localhost:8080/",
          "height": 74
        },
        "id": "CIGiaQN0Q9M9",
        "outputId": "1d51a0b7-77c5-4aea-ec92-f1d877a8a137"
      },
      "execution_count": null,
      "outputs": [
        {
          "output_type": "display_data",
          "data": {
            "text/plain": [
              "<ipython.core.display.html object="">"
            ],
            "text/html": [
              "\n",
              "     <input type="\&quot;file\&quot;" id="\&quot;files-9fe5d1bf-c682-4770-a1ae-e851b5e82bad\&quot;" name="\&quot;files[]\&quot;" multiple="" disabled\n",="" "="" style="\&quot;border:none\&quot;">\n",
              "     <output id="\&quot;result-9fe5d1bf-c682-4770-a1ae-e851b5e82bad\&quot;">\n",
              "      Upload widget is only available when the cell has been executed in the\n",
              "      current browser session. Please rerun this cell to enable.\n",
              "      </output>\n",
              "      <script>// Copyright 2017 Google LLC\n",
              "//\n",
              "// Licensed under the Apache License, Version 2.0 (the \"License\");\n",
              "// you may not use this file except in compliance with the License.\n",
              "// You may obtain a copy of the License at\n",
              "//\n",
              "//      http://www.apache.org/licenses/LICENSE-2.0\n",
              "//\n",
              "// Unless required by applicable law or agreed to in writing, software\n",
              "// distributed under the License is distributed on an \"AS IS\" BASIS,\n",
              "// WITHOUT WARRANTIES OR CONDITIONS OF ANY KIND, either express or implied.\n",
              "// See the License for the specific language governing permissions and\n",
              "// limitations under the License.\n",
              "\n",
              "/**\n",
              " * @fileoverview Helpers for google.colab Python module.\n",
              " */\n",
              "(function(scope) {\n",
              "function span(text, styleAttributes = {}) {\n",
              "  const element = document.createElement('span');\n",
              "  element.textContent = text;\n",
              "  for (const key of Object.keys(styleAttributes)) {\n",
              "    element.style[key] = styleAttributes[key];\n",
              "  }\n",
              "  return element;\n",
              "}\n",
              "\n",
              "// Max number of bytes which will be uploaded at a time.\n",
              "const MAX_PAYLOAD_SIZE = 100 * 1024;\n",
              "\n",
              "function _uploadFiles(inputId, outputId) {\n",
              "  const steps = uploadFilesStep(inputId, outputId);\n",
              "  const outputElement = document.getElementById(outputId);\n",
              "  // Cache steps on the outputElement to make it available for the next call\n",
              "  // to uploadFilesContinue from Python.\n",
              "  outputElement.steps = steps;\n",
              "\n",
              "  return _uploadFilesContinue(outputId);\n",
              "}\n",
              "\n",
              "// This is roughly an async generator (not supported in the browser yet),\n",
              "// where there are multiple asynchronous steps and the Python side is going\n",
              "// to poll for completion of each step.\n",
              "// This uses a Promise to block the python side on completion of each step,\n",
              "// then passes the result of the previous step as the input to the next step.\n",
              "function _uploadFilesContinue(outputId) {\n",
              "  const outputElement = document.getElementById(outputId);\n",
              "  const steps = outputElement.steps;\n",
              "\n",
              "  const next = steps.next(outputElement.lastPromiseValue);\n",
              "  return Promise.resolve(next.value.promise).then((value) => {\n",
              "    // Cache the last promise value to make it available to the next\n",
              "    // step of the generator.\n",
              "    outputElement.lastPromiseValue = value;\n",
              "    return next.value.response;\n",
              "  });\n",
              "}\n",
              "\n",
              "/**\n",
              " * Generator function which is called between each async step of the upload\n",
              " * process.\n",
              " * @param {string} inputId Element ID of the input file picker element.\n",
              " * @param {string} outputId Element ID of the output display.\n",
              " * @return {!Iterable<!Object>} Iterable of next steps.\n",
              " */\n",
              "function* uploadFilesStep(inputId, outputId) {\n",
              "  const inputElement = document.getElementById(inputId);\n",
              "  inputElement.disabled = false;\n",
              "\n",
              "  const outputElement = document.getElementById(outputId);\n",
              "  outputElement.innerHTML = '';\n",
              "\n",
              "  const pickedPromise = new Promise((resolve) => {\n",
              "    inputElement.addEventListener('change', (e) => {\n",
              "      resolve(e.target.files);\n",
              "    });\n",
              "  });\n",
              "\n",
              "  const cancel = document.createElement('button');\n",
              "  inputElement.parentElement.appendChild(cancel);\n",
              "  cancel.textContent = 'Cancel upload';\n",
              "  const cancelPromise = new Promise((resolve) => {\n",
              "    cancel.onclick = () => {\n",
              "      resolve(null);\n",
              "    };\n",
              "  });\n",
              "\n",
              "  // Wait for the user to pick the files.\n",
              "  const files = yield {\n",
              "    promise: Promise.race([pickedPromise, cancelPromise]),\n",
              "    response: {\n",
              "      action: 'starting',\n",
              "    }\n",
              "  };\n",
              "\n",
              "  cancel.remove();\n",
              "\n",
              "  // Disable the input element since further picks are not allowed.\n",
              "  inputElement.disabled = true;\n",
              "\n",
              "  if (!files) {\n",
              "    return {\n",
              "      response: {\n",
              "        action: 'complete',\n",
              "      }\n",
              "    };\n",
              "  }\n",
              "\n",
              "  for (const file of files) {\n",
              "    const li = document.createElement('li');\n",
              "    li.append(span(file.name, {fontWeight: 'bold'}));\n",
              "    li.append(span(\n",
              "        `(${file.type || 'n/a'}) - ${file.size} bytes, ` +\n",
              "        `last modified: ${\n",
              "            file.lastModifiedDate ? file.lastModifiedDate.toLocaleDateString() :\n",
              "                                    'n/a'} - `));\n",
              "    const percent = span('0% done');\n",
              "    li.appendChild(percent);\n",
              "\n",
              "    outputElement.appendChild(li);\n",
              "\n",
              "    const fileDataPromise = new Promise((resolve) => {\n",
              "      const reader = new FileReader();\n",
              "      reader.onload = (e) => {\n",
              "        resolve(e.target.result);\n",
              "      };\n",
              "      reader.readAsArrayBuffer(file);\n",
              "    });\n",
              "    // Wait for the data to be ready.\n",
              "    let fileData = yield {\n",
              "      promise: fileDataPromise,\n",
              "      response: {\n",
              "        action: 'continue',\n",
              "      }\n",
              "    };\n",
              "\n",
              "    // Use a chunked sending to avoid message size limits. See b/62115660.\n",
              "    let position = 0;\n",
              "    do {\n",
              "      const length = Math.min(fileData.byteLength - position, MAX_PAYLOAD_SIZE);\n",
              "      const chunk = new Uint8Array(fileData, position, length);\n",
              "      position += length;\n",
              "\n",
              "      const base64 = btoa(String.fromCharCode.apply(null, chunk));\n",
              "      yield {\n",
              "        response: {\n",
              "          action: 'append',\n",
              "          file: file.name,\n",
              "          data: base64,\n",
              "        },\n",
              "      };\n",
              "\n",
              "      let percentDone = fileData.byteLength === 0 ?\n",
              "          100 :\n",
              "          Math.round((position / fileData.byteLength) * 100);\n",
              "      percent.textContent = `${percentDone}% done`;\n",
              "\n",
              "    } while (position < fileData.byteLength);\n",
              "  }\n",
              "\n",
              "  // All done.\n",
              "  yield {\n",
              "    response: {\n",
              "      action: 'complete',\n",
              "    }\n",
              "  };\n",
              "}\n",
              "\n",
              "scope.google = scope.google || {};\n",
              "scope.google.colab = scope.google.colab || {};\n",
              "scope.google.colab._files = {\n",
              "  _uploadFiles,\n",
              "  _uploadFilesContinue,\n",
              "};\n",
              "})(self);\n",
              "</script> "
            ]
          },
          "metadata": {}
        },
        {
          "output_type": "stream",
          "name": "stdout",
          "text": [
            "Saving Guarani.txt to Guarani.txt\n"
          ]
        }
      ]
    },
    {
      "cell_type": "code",
      "source": [
        "texto = ler('Guarani.txt')"
      ],
      "metadata": {
        "id": "fb_gOEDg4Unq"
      },
      "execution_count": null,
      "outputs": []
    },
    {
      "cell_type": "markdown",
      "metadata": {
        "id": "nDc4dNPoMD0C"
      },
      "source": [
        "# Concordanciador\n",
        "\n",
        "Um concordanciador é um sistema de exibição de contextos 
(vizinhança) à esquerda e à direita de um termo-alvo. O contexto deve 
ser previamente delimitado por uma janela de $k$ caracteres.\n",
        "\n",
        "É fácil implementar um concordanciador através do método 
str.find() do Python."
      ]
    },
    {
      "cell_type": "code",
      "metadata": {
        "colab": {
          "base_uri": "https://localhost:8080/"
        },
        "id": "UbaUYOOdplVm",
        "outputId": "345ba87c-bd2c-4aa0-8182-baefd07f9853"
      },
      "source": [
        "# Exemplos do método str.find()\n",
        "\n",
        "print('abcd'.find('b'))  # Procura uma substring a partir da 
posição 0\n",
        "print('abcd-abcd'.find('b', 2))  # Procura uma substring a 
partir da posição indicada (3)\n",
        "print('abcd'.find('x'))  # Se a substring não for encontrada, o
 método retorna -1"
      ],
      "execution_count": null,
      "outputs": [
        {
          "output_type": "stream",
          "name": "stdout",
          "text": [
            "1\n",
            "6\n",
            "-1\n"
          ]
        }
      ]
    },
    {
      "cell_type": "code",
      "metadata": {
        "id": "YrL3-5g8L94S"
      },
      "source": [
        "# Criação de um concordanciador simples\n",
        "\n",
        "def concordancia(corpus: str, alvo: str) -&gt; list:\n",
        "    corpus = corpus.replace('\\n', ' ')\n",
        "    bingo = list()\n",
        "    tam_alvo = len(alvo)\n",
        "    janela = 40\n",
        "    pos = corpus.find(alvo)\n",
        "\n",
        "    while pos &gt;= 0:\n",
        "        bingo.append(corpus[pos - janela : pos + janela + 
tam_alvo])\n",
        "        pos = corpus.find(alvo, pos + 1)\n",
        "\n",
        "    return bingo"
      ],
      "execution_count": null,
      "outputs": []
    },
    {
      "cell_type": "code",
      "metadata": {
        "colab": {
          "base_uri": "https://localhost:8080/"
        },
        "id": "_xBQM3sys1E5",
        "outputId": "b01d57f1-8bf5-41d6-e073-175f373c5f19"
      },
      "source": [
        "concordancia(texto, 'índio ')"
      ],
      "execution_count": null,
      "outputs": [
        {
          "output_type": "execute_result",
          "data": {
            "text/plain": [
              "['mem civilizado a astúcia e agilidade do índio de quem 
haviam aprendido; eram uma espéc',\n",
              " 'ho tronco decepado pelo raio, via-se um índio na flor 
da idade. Uma simples túnica de ',\n",
              " 'sse fazer a pontaria entre as folhas, o índio bateu com
 o pé no chão em sinal de impac',\n",
              " 'gradecerá. Em resposta a esta ameaça, o índio empurrou 
desdenhosamente com a ponta do ',\n",
              " 'u rapidamente, em um segundo, sem que o índio deixasse 
um só instante com os olhos o i',\n",
              " ' da fera; a pequena seta despedida pelo índio se 
cravara na orelha, e uma segunda, aço',\n",
              " 'uma lata de morte a que ia se travar; o índio o sabia, e
 esperou tranqüilamente, como ',\n",
              " ' força e agilidade. Como a princípio, o índio havia 
dobrado um pouco os joelhos, e seg',\n",
              " 'ando o seu pêlo vermelho e afogueado. O índio saltou 
sobre o arco, e abateu-a daí a al',\n",
              " 'exalou-se num gemido surdo e abafado. O índio sorria, 
vendo os esforços da fera para a',\n",
              " ' são a sua arma mais terrível. Quando o índio satisfez o
 prazer de contemplar o seu ca',\n",
              " 'abriu-se uma moita espessa, e surdir um índio 
completamente nu, ornado apenas com uma ',\n",
              " 'o, tratas muito injustamente esse pobre índio que não 
te fez mal algum. — Ora, Cecília',\n",
              " 'sangue vermelho? Tua mãe não diz que um índio é um 
animal como um cavalo ou um cão? Es',\n",
              " '. Ao tempo que isto se passava, Peri, o índio que já 
conhecemos, tinha chegado com o s',\n",
              " 's do lado da casa. Durante um momento o índio pairou 
sobre o abismo, balançando-se no ',\n",
              " ' de Janeiro. Nessa muda contemplação, o índio esqueceu 
tudo. Que lhe importava o preci',\n",
              " 'Cecília cerrou as cortinas da janela, o índio vira os 
dois homens que colocados à dire',\n",
              " 'eus olhos azuis, então era diferente. O índio 
sacrificaria tudo, antes do que consenti',\n",
              " 'ximou-se da cerca. — Peri! disse ela. O índio apareceu à
 entrada da cabana; correu ale',\n",
              " 'a fugir dos lábios. Fitou um momento no índio os seus 
grandes olhos azuis com uma expr',\n",
              " ' a que a linguagem singela e concisa do índio dava uma 
certa poesia e originalidade. M',\n",
              " 'a. — Sim, a nuvem. Cecília pensou que o índio tinha 
perdido a cabeça; ele continuou: —',\n",
              " 'o seio e requeimam as faces. A moça e o índio nem se 
olharam; odiavam-se mutuamente; e',\n",
              " 'por acaso transpunha esse círculo que o índio traçava 
com o olhar em redor de si, Peri',\n",
              " ' susto. E fazia bem em voltar, porque o índio com o seu
 zelo ardente não duvidaria vaz',\n",
              " ' era o seu único deus. Enquanto porém o índio mantinha 
assim pela certeza de sua vista',\n",
              " 'anto podia ir causar um susto à moça, o índio fazia 
fugir, se estava longe, e se estav',\n",
              " 'recomendação era sempre inútil, e que o índio faria 
tudo para que uma abelha sequer nã',\n",
              " 'lia lhe havia dado há alguns minutos. O índio parou, e 
com um ligeiro sorriso de uma e',\n",
              " 'alhar de folhas que se espedaçavam, e o índio apareceu.
 Cecília tinha-se voltado um po',\n",
              " 'eres tu dizer? — Peri sabe! respondeu o índio sorrindo.
 Na véspera tinha provocado uma',\n",
              " 'ra do rio. Do primeiro lanço de olhos o índio conheceu 
que o largo sulco traçado entre',\n",
              " 'riação. Entretanto sucumbindo o valente índio resistia 
sempre; e vencido parecia quere',\n",
              " 'e aroma que recendia dessas gotas fez o índio abrir os 
olhos amortecidos, que se ilumi',\n",
              " 'urado persuadir seu marido a expulsar o índio que ela 
não podia sofrer, e cuja presenç',\n",
              " ' grande. Como pai de família estimava o índio pela 
circunstância a que já aludimos de ',\n",
              " ' uma hora chegado a esplanada e visto o índio fazendo 
partes diabólicas com o tigre ao',\n",
              " 'puxou com os dentes a trota de penas do índio mais 
moço, que o atirou a quatro passos ',\n",
              " 'esconhecida, e que Peri não entendeu. O índio mais moço
 saltou pela floresta como um c',\n",
              " 'alcance dos selvagens. Era isto o que o índio tinha 
visto; o que ele ignorava, o acont',\n",
              " ' da mais bela filha dos Aimorés. Ora, o índio conhecia a
 ferocidade desse povo sem pát',\n",
              " 'im áspero e queimado pelo sol. Apenas o índio deu 
alguns passos para atravessar o camp',\n",
              " ' a índia no momento em que ela fugia; o índio não o 
tinha visto por causa das guaximas',\n",
              " 'econhecer exclamou: — Per Dio! ei-la! O índio 
estremeceu ouvindo esta voz, e resolveu ',\n",
              " 'a a cavar, lhe chegava mais distinto. O índio abaixou 
os olhos, que brilhavam de conte',\n",
              " 'que penetrara no pequeno subterrâneo. O índio tirou a 
sua faca, e cerceando a cúpula d',\n",
              " ' seu alvéolo e ia rolar pela encosta. O índio fazia um 
esforço supremo para suster o p',\n",
              " 'ase desmaiada sobre o regaço materno, o índio saltava 
no meio do vale; a pedra girando',\n",
              " ' pai e beijava-lhe a mão com ternura; o índio humilde e
 submisso fitava um olhar profu',\n",
              " 'u-lhe a mão com gesto nobre e afável; o índio curvou-se
 e beijou a mão do fidalgo. — D',\n",
              " 'erguntou D. Antônio admirado. — Ouve. O índio começou, 
na sua linguagem tão rica e poé',\n",
              " ' te oferece o seu arco; tu és amigo.” O índio terminou 
aqui a sua narração. Enquanto f',\n",
              " 'ha te dá a arma de guerra de seu pai. O índio recebeu o
 presente com uma efusão de pro',\n",
              " ' do terreiro tocou anunciando a ceia. O índio vexado no
 meio dos usos estranhos, tomad',\n",
              " ', porque és guerreiro. A cada palavra o índio tocou a 
taça e bebeu um trago de vinho, ',\n",
              " 'er-lhe medo quando criança. Em Isabel o índio fizera a 
mesma impressão que lhe causava',\n",
              " 'hava com uma admiração ardente. O pobre índio tímido e 
esquivo, não se animava a chega',\n",
              " ' primeiro movimento de Cecília, vendo o índio fora de 
susto; fugira insensivelmente da',\n",
              " 'er má e ingrata pagar a dedicação que o índio lhe 
mostrava deixando-lhe ver a repugnân',\n",
              " 'to dizendo a Peri que se aproximasse. O índio não se 
contendo de alegria, correu para ',\n",
              " 'ua filha, D. Antônio foi ao encontro do índio que já 
subia a esplanada. Peri trazia um',\n",
              " 'enos habitantes desse ninho gracioso. O índio ajoelhou 
aos pés de Cecília; sem animar-',\n",
              " 'a interiormente, era fácil de ver que o índio estava 
triste; ele chegou-se para D. Ant',\n",
              " ' os ossos de Ararê. D. Antônio encheu o índio de 
presentes dados em seu nome e em nome',\n",
              " 'nha, e fazendo um gesto com a cabeça. O índio 
compreendeu perfeitamente o gesto. — Per',\n",
              " ' D. Antônio continuava a insistir com o índio para que 
partisse, ouviu-se um canto mon',\n",
              " 'isfarçou mais a sua antipatia. Quando o índio 
chegava-se a ela, soltava um grito de su',\n",
              " 'o de desgostá-la. Ceci era o nome que o índio dava à 
sua senhora, depois que lhe tinha',\n",
              " 'spereza: — Por que me chamas tu Ceci? O índio sorriu 
tristemente. — Não sabes dizer Ce',\n",
              " 'ado. — Chama-me Ceci, dizia às vezes ao índio 
sorrindo-se; este doce nome me lembrará ',\n",
              " 'e as mãos hirtas a clavina fumegante. O índio 
arrancou-a, e sacando a longa faca, leva',\n",
              " 'parou o golpe; depois estendeu a mão ao índio — Solta 
este miserável, Peri! — Não! — A',\n",
              " 'pudesse justificar a acusação, que ele, índio ia fazer 
contra homens brancos; a segund',\n",
              " 'va de tentar contra sua existência. E o índio 
respeitava a Álvaro, não por sua causa, ',\n",
              " 'nhora. Álvaro sorriu-se da franqueza do índio e corou 
da alusão que havia em suas pala',\n",
              " 'xclamou Álvaro. — Não te zanga, disse o índio com 
doçura; Peri te ama, porque tu fazes',\n",
              " 'as até tocarem na água. Álvaro fitou no índio um olhar 
admirado. Onde é que este selva',\n",
              " '. O moço recebeu a confissão ingênua do índio sem o 
mínimo sentimento hostil; ao contr',\n",
              " 'ra ficasse triste por ti!... exclamou o índio cuja 
pupila irradiou. — Sim? o que faria',\n",
              " 'ade; entretanto Álvaro apertou a mão do índio com 
efusão. Peri temeu ofender o moço; p',\n",
              " ' bom; Peri quer que a senhora te ame. O índio contou 
então a Álvaro o que se tinha pas',\n",
              " ' vez não lhe perdoara. — Deixa! disse o índio Ceci 
teria medo; Peri vai endireitar ist',\n",
              " 'Tu saberás. Álvaro quis insistir; mas o índio não lhe 
deu tempo; meteu-se de novo pelo',\n",
              " 'e. Aires Gomes ergueu-se, correu para o índio e 
deitou-lhe a mão ao braço. — Afinal pi',\n",
              " 'deiro resfolgando. — Deixa! respondeu o índio sem se 
mover. — Deixar-te! Uma figa! Dep',\n",
              " 'Com efeito, D. Lauriana desejando ver o índio fora de 
casa quanto antes, havia expedid',\n",
              " 'razão de sobra para não querer largar o índio causa de 
todas as tribulações por que pa',\n",
              " 'cordo. — Larga, já te disse! exclamou o índio começando
 a irritar-se. — Tem santa paci',\n",
              " 'ás ao fim do mundo, é o mesmo, filho. O índio voltou-se
 para ele com um gesto decidido',\n",
              " 'var à casa. — Peri vai só. — Veremos! O índio tirou a 
sua faca. — Hein!... gritou o es',\n",
              " 'te amarra. — Como?... Como é lá isso? O índio começou a
 cortar com a maior calma um lo',\n",
              " 's, sentiu a cabeça tontear e vacilou. O índio 
aproveitou o momento, atirou-se a ele, p',\n",
              " ' tronco desde o joelho até os ombros; o índio seguira 
seu caminho placidamente. — Bugr',\n",
              " ' um pesar. Nem tanto bastava para que o índio fizesse 
tudo a fim de trazer a alegria a',\n",
              " 'nsamentos, viu defronte de sua janela o índio a descer 
pela encosta. A menina assustou',\n",
              " 'que acabavam de ser vibradas. — Peri! O índio levantou 
os olhos para ela. — Tu choras,',\n",
              " 'a a alma. — Não chora, senhora, disse o índio 
suplicante; Peri vai te dar o que deseja',\n",
              " ' Os olhos de Peri. — Tu viste? — Sim. O índio continuou
 a descer. — Que vais fazer? ex',\n",
              " 'de, tua senhora manda que não desças. O índio parou 
indeciso; uma ordem de sua senhora',\n",
              " 'ava-se para dentro da janela corando. O índio sorriu. —
 Peri desobedecer à tua voz, se',\n",
              " 'hora, para obedecer ao teu coração. E o índio 
desapareceu sob as trepadeiras que cobri',\n",
              " 'tristonho da cauã no fundo do abismo. O índio tinha 
desaparecido; apenas se via o refl',\n",
              " ' para perscrutar o abismo e descobrir o índio Em um 
desses momentos um dos insetos que',\n",
              " 'amado, sofreu uma ansiedade cruel; se o índio não 
respondesse, estava morto; mas Peri ',\n",
              " 'rível que presenciara, tomou as mãos do índio e 
perguntou-lhe com sofreguidão: — Não e',\n",
              " 'ordido, Peri?... Não sofres?... Dize! O índio olhou-a 
admirado do susto que via no seu',\n",
              " ' senhora? — Muito! exclamou a menina. O índio sorriu. —
 Peri é um selvagem, filho das ',\n",
              " 'as; elas conhecem Peri e o respeitam. O índio dizia a 
verdade; o que acabava de fazer ',\n",
              " 'endido por eles, atribuía a salvação do índio a um 
milagre, e considerava a ação simpl',\n",
              " 'onita? perguntou a menina gracejando. O índio correu os
 olhos ao redor de si e ficou t',\n",
              " 'migo, te pede que voltes à tua tribo. O índio 
estremeceu. — Por que pedes isto? — Porq',\n",
              " 'a procurar um pretexto para explicar ao índio o seu 
procedimento: a idéia da religião,',\n",
              " ' sua filha. — Sim! balbuciou Cecília. O índio abaixou a
 cabeça; uma lágrima deslizou-l',\n",
              " 'senhora e no meu. O fidalgo entregou ao índio o 
pergaminho que há pouco tinha escrito ',\n",
              " 'io fitando nele um olhar desconfiado. O índio hesitou 
durante um momento; estudava a r',\n",
              " 'ra os inimigos de tua senhora e meus. O índio sorriu 
tristemente. — Eram mais fortes; ',\n",
              " 'e exame cruzou os braços e contemplou o índio com 
admiração profunda. — Peri, disse el',\n",
              " 'to de Cecília? — Um Aimoré, respondeu o índio 
estremecendo. — Por que a outra flecha f',\n",
              " 'ão é mais preciso; volta à sua tribo. O índio lançou um
 último olhar à sua senhora, e ',\n",
              " ' tenho também a minha dívida a pagar. O índio beijou 
com respeito a mão que a mulher d',\n",
              " ' se o houvesse presenciado. A ferida do índio que se 
abrira com as emoções por que pas',\n",
              " 'ônio de Mariz e D. Diogo contemplando o índio com um 
olhar de gratidão; tudo isto ao m',\n",
              " '! O escudeiro estendeu o braço hirto; o índio 
apertou-lhe a mão sorrindo. — Tu és amig',\n",
              " 'ndeu o sentido da frase simbólica que o índio lhe 
mandava pelos ares. Com efeito aquel',\n",
              " 'e inclinou-se; Álvaro compreendeu que o índio queria 
arrancar a flecha, e obedeceu à o',\n",
              " 'o te entendo. — Espera: Peri volta. E o índio 
despareceu de novo nas sombras da noite ',\n",
              " 'va os aventureiros como a sua sombra; o índio deixando 
D. Antônio dera pela sua ausênc',\n",
              " 'star-se. Deixando Álvaro, a intenção do índio era 
atalhar os aventureiros, esperá-los ',\n",
              " 'apavam por uma espécie de fatalidade. O índio refletiu 
alguns momentos e tomou uma res',\n",
              " ' atacá-los. — Mas são três. — Melhor. O índio hesitou: —
 Não; Peri quer combater só os',\n",
              " 'valheiro atribuindo as desconfianças do índio a uma 
exageração filha da sua dedicação ',\n",
              " 's de deserção; mas não passava disto. O índio sabia que
 Álvaro duvidaria do que se pas',\n",
              " 'r, tu julgas que ele mente? perguntou o índio com 
firmeza. — Que queres dizer com isso',\n",
              " 'randirá o ferro senão contra o ferro! O índio lançou ao
 moço um olhar que brilhou nas ',\n",
              " 'ria exatamente o que tinha resolvido. O índio a 
princípio parecia impressionado pela o',\n",
              " 'valheiro saberia, quando fosse tempo. O índio tinha a 
sua idéia. Chegando à casa os do',\n",
              " 'o vão esclarecido. A menina avistando o índio correu 
para ele. — Meu pobre Peri, disse',\n",
              " 'ode ter queixa de sua senhora? tornou o índio 
simplesmente. — Mas tu não és escravo!..',\n",
              " 'te arriscas a morrer por minha causa. O índio sorriu. —
 Que queres que Peri faça de su',\n",
              " 'quarto e bateu a porta com violência. O índio voltou 
pesaroso à sua cabana. De repente',\n",
              " 'ro! exclamou a menina com vivacidade. O índio sorriu: —
 Se Peri fosse cristão, e um ho',\n",
              " 'ciocínio; ela ignorava a conversa que o índio tivera na
 véspera com o cavalheiro. — Pe',\n",
              " ' o que se tinha passado. Sabia que se o índio 
suspeitasse a cena da véspera, odiaria I',\n",
              " ' aquele olhar era o adeus extremo que o índio lhe 
dizia. Mas para isto fora preciso qu',\n",
              " ' os aventureiros cruzando as espadas. O índio levantou 
os ombros desdenhosamente; e an',\n",
              " 'iano sem rumor e sem escândalo. Então o índio por sua 
vez contou ao moço o que tinha o',\n",
              " 'rira a mão de Peri; e sem ver, sentia o índio aproximar
 se terrível de ódio, de vingan',\n",
              " ' e as suas formas esbeltas. Era Peri. O índio 
avançou-se para o leito, e vendo sua sen',\n",
              " 'urança e sossego. O primeiro cuidado do índio foi 
apagar a vela, depois fechando os ol',\n",
              " 'o dia. Depois desse primeiro desvelo, o índio 
restabeleceu a ordem no aposento; deitou',\n",
              " 'io profundo da natureza quando dorme. O índio fechou 
por fora a porta do quarto que da',\n",
              " 'gem, à sagacidade e à força do homem, o índio havia 
realizado. Depois da partida de Lo',\n",
              " 'o italiano iam ser expulsos como ele, o índio não 
pensando mais senão no ataque dos Ai',\n",
              " 'as: mas embora fossem estas pequenas, o índio não 
desanimou; tinha consciência de si; ',\n",
              " 'eira como a bala. Passado muito tempo o índio ouviu 
cantar uma coruja do lado da escad',\n",
              " ' tivessem também entrado no alpendre, o índio 
agachou-se e penetrou no interior; de re',\n",
              " ' outra mão segurava o cabo do punhal. O índio saiu do 
alpendre e dirigiu-se ao quarto ',\n",
              " 'arem de uma morte certa e inevitável. O índio agarrou 
convulsivamente a cabeça com as ',\n",
              " 'o, antes que pudesse soltar um grito. O índio deitou o 
corpo hirto sobre o chão sem fa',\n",
              " 'Peri esperava. Livre do maior perigo, o índio rodeou a 
casa para ver se tudo estava em',\n",
              " ' a parede junto do jardim de Cecília. O índio tirou a 
sua faca; a noite estava tão esc',\n",
              " ' de agonia ia romper-lhe do seio; mas o índio mordendo 
os lábios com força, reprimiu a',\n",
              " ' prendendo-se à árvore com as pernas, o índio 
estendeu-se ao longo do galho e esticou ',\n",
              " 'ingar-se de Peri. Mal sabia porém que o índio tinha 
destruído toda a sua maquinação; c',\n",
              " 'exclamaram os aventureiros. — Sim, esse índio que conta
 assassinar-nos a todos para sa',\n",
              " 'e operações; porque, é preciso dizer, o índio não 
partilhava o desanimo geral, e tinha',\n",
              " ' amor e tanta dedicação. As loucuras do índio chegaram a
 ponto que Cecília foi obrigad',\n",
              " 'ontinuava a contemplar a sua senhora. O índio estava 
pensativo: e via-se que uma idéia',\n",
              " 'or que perguntas isso, senhora? disse o índio 
timidamente. — Por quê?... exclamou Cecí',\n",
              " 'm ar incrédulo. — Eles são tantos!... O índio sorriu 
com orgulho. — Sejam mil; Peri ve',\n",
              " 'omem seja Peri. — Tu verás! respondeu o índio com 
segurança. — E quem te dará força pa',\n",
              " 'uem?... Tu, senhora, tu só, respondeu o índio fitando 
nela o seu olhar brilhante. Cecí',\n",
              " 'es, e ficar alegre e contente. A voz do índio tornou-se
 trêmula; sentindo que não podi',\n",
              " 'dade que entrava pela janela bastava ao índio para 
distinguir os objetos perfeitamente',\n",
              " 'a vencê-lo. E ele quer ser vencido... O índio levou a 
mão ao coração: — Sim!... Peri, ',\n",
              " 'se com esta nova audácia do italiano, o índio 
sorriu-se; a brecha que praticava seria ',\n",
              " 'alhas e uma grande quartola de vinho; o índio mesmo às 
escuras chegou-se a cada um des',\n",
              " 'a para atirar a punhalada às escuras, o índio resvalou 
entre ele e a porta. A faca de ',\n",
              " 'igos; havia realmente motivo para que o índio se 
admirasse. Não só isso era contra a o',\n",
              " 'orça prodigiosa, ferozes como tigres. O índio murmurou:
 — Hoje cairão todos como a árv',\n",
              " 'onde? — Para longe. — Que vais fazer? O índio hesitou: —
 Procurar socorro. Álvaro sorr',\n",
              " 'te prometo. — Outra coisa. — O que é? O índio hesitou 
de novo: — Se tu vires a cabeça ',\n",
              " 'uanto pedes; mas espero ver-te ainda. O índio sorriu. —
 Ama a senhora, disse ele esten',\n",
              " 'ês devia morrer; com honra e coragem. O índio 
atravessou a sala e colocando-se junto d',\n",
              " 's? — Embora me suplicasse de joelhos. O índio sentiu-se
 aliviado como de um remorso. —',\n",
              " 'te te deixar; mas é preciso. Enquanto o índio proferia 
estas palavras em voz baixa e i',\n",
              " 'om os alvos cabelos tintos de sangue. O índio 
horrorizado com estas imagens lúgubres q',\n",
              " ' — Proíbo-te que saias desta casa!... O índio julgou 
que ia enlouquecer; quis lançar-s',\n",
              " 'mpossibilitava de salvar sua senhora, o índio 
retraindo-se deu um salto, e caiu no mei',\n",
              " ' de desobediência, olhavam espantados o índio de pé no 
meio do vasto aposento, ele lan',\n",
              " 'oísmo de que já dera tantos exemplos, o índio se 
apresentava só em face de duzentos in',\n",
              " 'le, como uma tromba do oceano, contra o índio que 
ousava atacá-los a peito descoberto.',\n",
              " 'mbelezar os últimos momentos da vida! O índio voltou o 
rosto com desdém; recusava as f',\n",
              " 'tigar a dor do vencido. Mal sabia que o índio ia morrer
 feliz e esperava o suplício co',\n",
              " 'mo para receberem o beijo que pediam. O índio fechou os
 olhos e pensou em sua senhora.',\n",
              " 'ava-se calmo e impassível. De repente o índio 
estremeceu. Cecília aparecera no alto da',\n",
              " ' de vingança, leventou sobre o peito do índio a faca de
 pedra com que lhe cortara os l',\n",
              " 'stava já preparado para o sacrifício. O índio ergueu-se
 e caminhou com o passo firme e',\n",
              " 'acá? — Sou teu inimigo! — Defende-te! O índio sorriu: —
 Tu não mereces. Os olhos do ve',\n",
              " 'm a felicidade suprema. A alma nobre do índio prestes a
 deixar a terra parecia exalar ',\n",
              " 'les correr contra o inimigo, e livrar o índio da morte 
certa e inevitável que procurav',\n",
              " 'ar os selvagens. A extrema dedicação do índio por sua 
senhora, o desespero da posição ',\n",
              " 'moço com autoridade. — Não! respondeu o índio 
friamente. — Tua senhora te chama! Peri ',\n",
              " 'lvaro olhou a fisionomia inteligente do índio para ver 
se descobria nela algum sinal d',\n",
              " 'iram a voz de Peri; Cecília correu, e o índio 
ajoelhou-se a seus pés pedindo-lhe perdã',\n",
              " 's qual era o resultado dessa loucura? O índio calou-se.
 — É preciso explicares-te, par',\n",
              " ' mas não podiam saber os meios de que o índio se 
servira ou pretendia servir-se para u',\n",
              " 'orror acolheu essas palavras ditas pelo índio em um tom
 simples e natural. O plano que',\n",
              " 'ização a mais forte e a mais robusta. O índio resolveu 
pois usar deste poder que na su',\n",
              " ' não ter ele ouvido as suas súplicas. O índio nem se 
animava a levantar os olhos para ',\n",
              " 'izeste o que tua senhora te pedia?... O índio não sabia
 o que responder; temia ter per',\n",
              " 'de terror e de espanto. A fisionomia do índio se tinha 
decomposto; seus traços nobres ',\n",
              " ' queres que Peri viva, senhora? disse o índio com a voz
 comovida. — Sim!... respondeu ',\n",
              " 'e. Quero que tu vivas! — Peri viverá! O índio fez um 
esforço supremo, e restituindo um',\n",
              " 'oderou-se do seu espírito; julgou que o índio se 
iludia. Cecília porém tinha mais do q',\n",
              " 'chegada de Peri, o fidalgo interrogou o índio e ouviu 
de sua boca a narração breve dos',\n",
              " 'da. Vendo o desespero de sua senhora, o índio sentiu-se
 com forças de resistir ao torp',\n",
              " ' viu livre do turbilhão dos inimigos, o índio tomou 
Álvaro nos seus ombros, e abrindo ',\n",
              " 'todo entregue a esse exame minucioso, o índio sentiu 
uma mão tímida e delicada tocar-l',\n",
              " 'roximou-se dele e tocou-lhe no ombro. O índio e a moça 
se odiavam desde o primeiro dia',\n",
              " ' esperasse dele uma graça. — Peri!... O índio sentiu-se
 comovido ao aspecto daquele so',\n",
              " 'do essa palavra, a mova fez um gesto ao índio e 
dirigiu-se acompanhada por ele à sala ',\n",
              " 'a Peri que o tomasse nos seus braços. O índio obedeceu,
 e acompanhou Isabel até um gab',\n",
              " 'eri que ela estava no seu quarto; mas o índio ocultou 
parte da verdade, e não disse on',\n",
              " 'do, fez um gesto a Peri e retirou-se. O índio fechou de
 novo a porta e acompanhou sua ',\n",
              " 'ente: Logo que achou quanto desejava, o índio 
encaminhou-se para a porta. — Onde vais?',\n",
              " ' morrer todos juntos, da mesma morte? O índio 
estremeceu. — Não; Peri morrerá; mas tu ',\n",
              " '                            X CRISTÃO O índio 
dirigiu-se rapidamente a D. Antônio de M',\n",
              " 'artilhe a sorte de meus companheiros. O índio no seu 
fanatismo não compreendia que hou',\n",
              " ', para salvar-te do inimigo, Peri?... O índio abaixou a
 cabeça com abatimento. — Demai',\n",
              " 'na terra. Adeus. Parte: o tempo urge. O índio ergueu a 
cabeça com um gesto soberbo de ',\n",
              " 'vitável que a ameaçava. Dir-se-ia que o índio esperava 
algum socorro imprevisto, algum',\n",
              " 'ene: — Se tu fosses cristão, Peri!... O índio voltou-se
 extremamente admirado daquelas',\n",
              " 'm o pé sobre o túmulo. Ajoelha, Peri! O índio caiu aos 
pés do velho cavalheiro, que im',\n",
              " 'fidalgo; todas as portas se fecharam; o índio empregava
 este meio para ganhar tempo. O',\n",
              " 'strondo soou na porta larga do salão, o índio já tinha 
desaparecido. Apesar da escurid',\n",
              " ' cena tumultuosa que deixava após si, o índio ganhou a 
encosta oposta, e segurando com',\n",
              " 'r sua filha. Chegando à beira do rio, o índio deitou 
sua senhora no fundo da canoa, co',\n",
              " 'ande catástrofe. Dominando a sua dor, o índio vergou 
sobre o remo, e a canoa voou pela',\n",
              " 'eiras claridades do dia. Toda a noite o índio tinha 
remado sem descansar um momento; n',\n",
              " 'ambraia do seu roupão. Voltou-se para o índio com os 
olhos extremamente dilatados, os ',\n",
              " ' podia salvar a ti, senhora! murmurou o índio 
tristemente. Cecília ergueu a cabeça alt',\n",
              " 'lhar tão imperioso, tão soberano, que o índio emudeceu,
 e voltando o rosto escondeu as',\n",
              " 'nte da cólera que ela sentira, porque o índio salvara a
 sua vida, e a arrancara da des',\n",
              " 'so fugiu-lhe pelos lábios. — Peri!... O índio 
estremeceu, mas desta vez de alegria e d',\n",
              " 'clamou a menina. Conta-me, meu amigo. O índio fez a 
narração da cena da noite antecede',\n",
              " 'ue os separava do campo dos goitacás. O índio chegou-se
 trêmulo para a menina: — Que q',\n",
              " 'teu a D. Antônio levar-te à sua irmã. O índio fez a 
canoa boiar sobre as águas do rio,',\n",
              " '. No meio de homens civilizados, era um índio 
ignorante, nascido de uma raça bárbara, ',\n",
              " 'gação do culto santo e respeitoso que o índio lhe 
votava! As horas correram silenciosa',\n",
              " ' a mesma doce visão que o adormecera, o índio julgou 
que o sonho continuava. Cecília s',\n",
              " 'e não me deixas nem mesmo a gratidão! O índio lançou um
 olhar cheio de admiração a men',\n",
              " 'o. — Peri... é teu escravo, respondeu o índio 
naturalmente. A menina abanou a cabeça c',\n",
              " 'ília ajoelhou-se. — Salve, rainha!... O índio 
contemplava-a com uma expressão de ventu',\n",
              " 'xas só? disse a menina entristecendo. O índio ficou um 
momento indeciso; mas de repent',\n",
              " 'fazê-la compreender o seu pensamento. O índio 
continuou: — Peri não leva a sua alma no',\n",
              " 'ucedido alguma coisa, chamou por ele. O índio respondeu
 longe, e pouco depois apareceu',\n",
              " 'bandonar? — Peri é um selvagem, disse o índio 
tristemente; não pode viver na taba dos ',\n",
              " 'restava no mundo. Durante esse tempo, o índio preparava
 a simples refeição que lhes of',\n",
              " ' deliciosos; dir-se-ia mel de flores. O índio tornou 
côncava uma palma larga e encheu-',\n",
              " 'lágrimas. — Não chora, senhora, disse o índio aflito; 
Peri te falou o que sentia; mand',\n",
              " 'le bonita. Sim? — Para quê? perguntou o índio admirado.
 — Do algodão fiarei um vestido',\n",
              " 'espinhos não me farão mal. O espanto do índio tinha-o 
tornado imóvel; mas de repente s',\n",
              " 'reteve-o. — Espera! — Olha! respondeu o índio inquieto 
apontando para o rio. A canoa, ',\n",
              " 'o do dia; tudo estava imóvel e quedo. O índio curvou-se
 sobre a borda da canoa, e de n',\n",
              " 'poder infinito! — Tu não sabes? disse o índio como 
inspirado pelo seu amor ardente, o ',\n",
              " 'ueles a quem ama um bom pensamento. E o índio ergueu os
 olhos com uma expressão inefáv']"
            ]
          },
          "metadata": {},
          "execution_count": 6
        }
      ]
    },
    {
      "cell_type": "markdown",
      "metadata": {
        "id": "AX-1pEE9NQZe"
      },
      "source": [
        "# Estatísticas descritivas com Pandas e Pontuação-Padrão 
(z-score)\n",
        "\n",
        "Vamos relembrar rapidamente alguns objetos e métodos do Pandas.
 Trata-se de um módulo externo usado para análises de dados estruturados
 (tabelas).\n",
        "\n",
        "O módulo tem como objeto principal o DataFrame, que nada mais é
 que uma tabela indexada (isto é, contando as linhas a partir do 0)."
      ]
    },
    {
      "cell_type": "code",
      "metadata": {
        "id": "bZTlkskzNQZh"
      },
      "source": [
        "# Importação do módulo e criação de um DataFrame simples\n",
        "\n",
        "import pandas as pd"
      ],
      "execution_count": null,
      "outputs": []
    },
    {
      "cell_type": "code",
      "source": [
        "# Exemplos para relembrar...\n",
        "\n",
        "df = pd.DataFrame({'a': [1, 2], 'b': [10, 20]})\n",
        "df"
      ],
      "metadata": {
        "colab": {
          "base_uri": "https://localhost:8080/",
          "height": 125
        },
        "id": "Nl09fjn01ASL",
        "outputId": "1ddd68c0-87a5-49c3-9865-bb0f42e5a741"
      },
      "execution_count": null,
      "outputs": [
        {
          "output_type": "execute_result",
          "data": {
            "text/plain": [
              "   a   b\n",
              "0  1  10\n",
              "1  2  20"
            ],
            "text/html": [
              "\n",
              "  <div id="\&quot;df-28321820-e06f-4fbd-b562-8918f5339bc7\&quot;" class="\&quot;colab-df-container\&quot;">\n",
              "    <div>\n",
              "<style scoped="">\n",
              "    .dataframe tbody tr th:only-of-type {\n",
              "        vertical-align: middle;\n",
              "    }\n",
              "\n",
              "    .dataframe tbody tr th {\n",
              "        vertical-align: top;\n",
              "    }\n",
              "\n",
              "    .dataframe thead th {\n",
              "        text-align: right;\n",
              "    }\n",
              "</style>\n",
              "\n",
              "  \n",
              "    \n",
              "      \n",
              "      \n",
              "      \n",
              "    \n",
              "  \n",
              "  \n",
              "    \n",
              "      \n",
              "      \n",
              "      \n",
              "    \n",
              "    \n",
              "      \n",
              "      \n",
              "      \n",
              "    \n",
              "  \n",
              "<table border="\&quot;1\&quot;" class="\&quot;dataframe\&quot;"><thead><tr style="\&quot;text-align:" right;\"=""><th></th><th>a</th><th>b</th></tr></thead><tbody><tr><th>0</th><td>1</td><td>10</td></tr><tr><th>1</th><td>2</td><td>20</td></tr></tbody></table>\n",
              "</div>\n",
              "    <div class="\&quot;colab-df-buttons\&quot;">\n",
              "\n",
              "  <div class="\&quot;colab-df-container\&quot;">\n",
              "    <button class="\&quot;colab-df-convert\&quot;" onclick="\&quot;convertToInteractive('df-28321820-e06f-4fbd-b562-8918f5339bc7')\&quot;\n&quot;," "="" title="\&quot;Convert" this="" dataframe="" to="" an="" interactive="" table.\"\n",="" style="\&quot;display:none;\&quot;">\n",
              "\n",
              "  <svg xmlns="\&quot;http://www.w3.org/2000/svg\&quot;" height="\&quot;24px\&quot;" viewBox="\&quot;0" -960="" 960="" 960\"="">\n",
              "    <path d="\&quot;M120-120v-720h720v720H120Zm60-500h600v-160H180v160Zm220" 220h160v-160h400v160zm0="" 220h160v-160h400v160zm180-400h160v-160h180v160zm440="" 0h160v-160h620v160zm180-180h160v-160h180v160zm440="" 0h160v-160h620v160z\"=""></path>\n",
              "  </svg>\n",
              "    </button>\n",
              "\n",
              "  <style>\n",
              "    .colab-df-container {\n",
              "      display:flex;\n",
              "      gap: 12px;\n",
              "    }\n",
              "\n",
              "    .colab-df-convert {\n",
              "      background-color: #E8F0FE;\n",
              "      border: none;\n",
              "      border-radius: 50%;\n",
              "      cursor: pointer;\n",
              "      display: none;\n",
              "      fill: #1967D2;\n",
              "      height: 32px;\n",
              "      padding: 0 0 0 0;\n",
              "      width: 32px;\n",
              "    }\n",
              "\n",
              "    .colab-df-convert:hover {\n",
              "      background-color: #E2EBFA;\n",
              "      box-shadow: 0px 1px 2px rgba(60, 64, 67, 0.3), 0px 1px 3px 1px rgba(60, 64, 67, 0.15);\n",
              "      fill: #174EA6;\n",
              "    }\n",
              "\n",
              "    .colab-df-buttons div {\n",
              "      margin-bottom: 4px;\n",
              "    }\n",
              "\n",
              "    [theme=dark] .colab-df-convert {\n",
              "      background-color: #3B4455;\n",
              "      fill: #D2E3FC;\n",
              "    }\n",
              "\n",
              "    [theme=dark] .colab-df-convert:hover {\n",
              "      background-color: #434B5C;\n",
              "      box-shadow: 0px 1px 3px 1px rgba(0, 0, 0, 0.15);\n",
              "      filter: drop-shadow(0px 1px 2px rgba(0, 0, 0, 0.3));\n",
              "      fill: #FFFFFF;\n",
              "    }\n",
              "  </style>\n",
              "\n",
              "    <script>\n",
              "      const buttonEl =\n",
              "        document.querySelector('#df-28321820-e06f-4fbd-b562-8918f5339bc7 button.colab-df-convert');\n",
              "      buttonEl.style.display =\n",
              "        google.colab.kernel.accessAllowed ? 'block' : 'none';\n",
              "\n",
              "      async function convertToInteractive(key) {\n",
              "        const element = document.querySelector('#df-28321820-e06f-4fbd-b562-8918f5339bc7');\n",
              "        const dataTable =\n",
              "          await google.colab.kernel.invokeFunction('convertToInteractive',\n",
              "                                                    [key], {});\n",
              "        if (!dataTable) return;\n",
              "\n",
              "        const docLinkHtml = 'Like what you see? Visit the ' +\n",
              "          '<a target=\"_blank\" href=https://colab.research.google.com/notebooks/data_table.ipynb>data table notebook</a>'\n",
              "          + ' to learn more about interactive tables.';\n",
              "        element.innerHTML = '';\n",
              "        dataTable['output_type'] = 'display_data';\n",
              "        await google.colab.output.renderOutput(dataTable, element);\n",
              "        const docLink = document.createElement('div');\n",
              "        docLink.innerHTML = docLinkHtml;\n",
              "        element.appendChild(docLink);\n",
              "      }\n",
              "    </script>\n",
              "  </div>\n",
              "\n",
              "\n",
              "<div id="\&quot;df-84e0a5b8-172c-437e-a2ab-0916fd7b5d70\&quot;">\n",
              "  <button class="\&quot;colab-df-quickchart\&quot;" onclick="\&quot;quickchart('df-84e0a5b8-172c-437e-a2ab-0916fd7b5d70')\&quot;\n&quot;," "="" title="\&quot;Suggest" charts\"\n",="" style="\&quot;display:none;\&quot;">\n",
              "\n",
              "<svg xmlns="\&quot;http://www.w3.org/2000/svg\&quot;" height="\&quot;24px\&quot;viewBox=\&quot;0" 0="" 24="" 24\"\n",="" "="" width="\&quot;24px\&quot;">\n",
              "    <g>\n",
              "        <path d="\&quot;M19" 3h5c-1.1="" 0-2="" .9-2="" 2v14c0="" 1.1.9="" 2="" 2h14c1.1="" 0="" 2-.9="" 2-2v5c0-1.1-.9-2-2-2zm9="" 17h7v-7h2v7zm4="" 0h-2v7h2v10zm4="" 0h-2v-4h2v4z\"=""></path>\n",
              "    </g>\n",
              "</svg>\n",
              "  </button>\n",
              "\n",
              "<style>\n",
              "  .colab-df-quickchart {\n",
              "      --bg-color: #E8F0FE;\n",
              "      --fill-color: #1967D2;\n",
              "      --hover-bg-color: #E2EBFA;\n",
              "      --hover-fill-color: #174EA6;\n",
              "      --disabled-fill-color: #AAA;\n",
              "      --disabled-bg-color: #DDD;\n",
              "  }\n",
              "\n",
              "  [theme=dark] .colab-df-quickchart {\n",
              "      --bg-color: #3B4455;\n",
              "      --fill-color: #D2E3FC;\n",
              "      --hover-bg-color: #434B5C;\n",
              "      --hover-fill-color: #FFFFFF;\n",
              "      --disabled-bg-color: #3B4455;\n",
              "      --disabled-fill-color: #666;\n",
              "  }\n",
              "\n",
              "  .colab-df-quickchart {\n",
              "    background-color: var(--bg-color);\n",
              "    border: none;\n",
              "    border-radius: 50%;\n",
              "    cursor: pointer;\n",
              "    display: none;\n",
              "    fill: var(--fill-color);\n",
              "    height: 32px;\n",
              "    padding: 0;\n",
              "    width: 32px;\n",
              "  }\n",
              "\n",
              "  .colab-df-quickchart:hover {\n",
              "    background-color: var(--hover-bg-color);\n",
              "    box-shadow: 0 1px 2px rgba(60, 64, 67, 0.3), 0 1px 3px 1px rgba(60, 64, 67, 0.15);\n",
              "    fill: var(--button-hover-fill-color);\n",
              "  }\n",
              "\n",
              "  .colab-df-quickchart-complete:disabled,\n",
              "  .colab-df-quickchart-complete:disabled:hover {\n",
              "    background-color: var(--disabled-bg-color);\n",
              "    fill: var(--disabled-fill-color);\n",
              "    box-shadow: none;\n",
              "  }\n",
              "\n",
              "  .colab-df-spinner {\n",
              "    border: 2px solid var(--fill-color);\n",
              "    border-color: transparent;\n",
              "    border-bottom-color: var(--fill-color);\n",
              "    animation:\n",
              "      spin 1s steps(1) infinite;\n",
              "  }\n",
              "\n",
              "  @keyframes spin {\n",
              "    0% {\n",
              "      border-color: transparent;\n",
              "      border-bottom-color: var(--fill-color);\n",
              "      border-left-color: var(--fill-color);\n",
              "    }\n",
              "    20% {\n",
              "      border-color: transparent;\n",
              "      border-left-color: var(--fill-color);\n",
              "      border-top-color: var(--fill-color);\n",
              "    }\n",
              "    30% {\n",
              "      border-color: transparent;\n",
              "      border-left-color: var(--fill-color);\n",
              "      border-top-color: var(--fill-color);\n",
              "      border-right-color: var(--fill-color);\n",
              "    }\n",
              "    40% {\n",
              "      border-color: transparent;\n",
              "      border-right-color: var(--fill-color);\n",
              "      border-top-color: var(--fill-color);\n",
              "    }\n",
              "    60% {\n",
              "      border-color: transparent;\n",
              "      border-right-color: var(--fill-color);\n",
              "    }\n",
              "    80% {\n",
              "      border-color: transparent;\n",
              "      border-right-color: var(--fill-color);\n",
              "      border-bottom-color: var(--fill-color);\n",
              "    }\n",
              "    90% {\n",
              "      border-color: transparent;\n",
              "      border-bottom-color: var(--fill-color);\n",
              "    }\n",
              "  }\n",
              "</style>\n",
              "\n",
              "  <script>\n",
              "    async function quickchart(key) {\n",
              "      const quickchartButtonEl =\n",
              "        document.querySelector('#' + key + ' button');\n",
              "      quickchartButtonEl.disabled = true;  // To prevent multiple clicks.\n",
              "      quickchartButtonEl.classList.add('colab-df-spinner');\n",
              "      try {\n",
              "        const charts = await google.colab.kernel.invokeFunction(\n",
              "            'suggestCharts', [key], {});\n",
              "      } catch (error) {\n",
              "        console.error('Error during call to suggestCharts:', error);\n",
              "      }\n",
              "      quickchartButtonEl.classList.remove('colab-df-spinner');\n",
              "      quickchartButtonEl.classList.add('colab-df-quickchart-complete');\n",
              "    }\n",
              "    (() => {\n",
              "      let quickchartButtonEl =\n",
              "        document.querySelector('#df-84e0a5b8-172c-437e-a2ab-0916fd7b5d70 button');\n",
              "      quickchartButtonEl.style.display =\n",
              "        google.colab.kernel.accessAllowed ? 'block' : 'none';\n",
              "    })();\n",
              "  </script>\n",
              "</div>\n",
              "\n",
              "  <div id="\&quot;id_1b1f94c1-f394-4156-ae6a-9e178cae69d7\&quot;">\n",
              "    <style>\n",
              "      .colab-df-generate {\n",
              "        background-color: #E8F0FE;\n",
              "        border: none;\n",
              "        border-radius: 50%;\n",
              "        cursor: pointer;\n",
              "        display: none;\n",
              "        fill: #1967D2;\n",
              "        height: 32px;\n",
              "        padding: 0 0 0 0;\n",
              "        width: 32px;\n",
              "      }\n",
              "\n",
              "      .colab-df-generate:hover {\n",
              "        background-color: #E2EBFA;\n",
              "        box-shadow: 0px 1px 2px rgba(60, 64, 67, 0.3), 0px 1px 3px 1px rgba(60, 64, 67, 0.15);\n",
              "        fill: #174EA6;\n",
              "      }\n",
              "\n",
              "      [theme=dark] .colab-df-generate {\n",
              "        background-color: #3B4455;\n",
              "        fill: #D2E3FC;\n",
              "      }\n",
              "\n",
              "      [theme=dark] .colab-df-generate:hover {\n",
              "        background-color: #434B5C;\n",
              "        box-shadow: 0px 1px 3px 1px rgba(0, 0, 0, 0.15);\n",
              "        filter: drop-shadow(0px 1px 2px rgba(0, 0, 0, 0.3));\n",
              "        fill: #FFFFFF;\n",
              "      }\n",
              "    </style>\n",
              "    <button class="\&quot;colab-df-generate\&quot;" onclick="\&quot;generateWithVariable('df')\&quot;\n&quot;," "="" title="\&quot;Generate" code="" using="" this="" dataframe.\"\n",="" style="\&quot;display:none;\&quot;">\n",
              "\n",
              "  <svg xmlns="\&quot;http://www.w3.org/2000/svg\&quot;" height="\&quot;24px\&quot;viewBox=\&quot;0" 0="" 24="" 24\"\n",="" "="" width="\&quot;24px\&quot;">\n",
              "    <path d="\&quot;M7,19H8.4L18.45,9,17,7.55,7,17.6ZM5,21V16.75L18.45,3.32a2,2,0,0,1,2.83,0l1.4,1.43a1.91,1.91,0,0,1,.58,1.4,1.91,1.91,0,0,1-.58,1.4L9.25,21ZM18.45,9,17,7.55Zm-12,3A5.31,5.31,0,0,0,4.9,8.1,5.31,5.31,0,0,0,1,6.5,5.31,5.31,0,0,0,4.9,4.9,5.31,5.31,0,0,0,6.5,1,5.31,5.31,0,0,0,8.1,4.9,5.31,5.31,0,0,0,12,6.5,5.46,5.46,0,0,0,6.5,12Z\&quot;/">\n",
              "  </path></svg>\n",
              "    </button>\n",
              "    <script>\n",
              "      (() => {\n",
              "      const buttonEl =\n",
              "        document.querySelector('#id_1b1f94c1-f394-4156-ae6a-9e178cae69d7 button.colab-df-generate');\n",
              "      buttonEl.style.display =\n",
              "        google.colab.kernel.accessAllowed ? 'block' : 'none';\n",
              "\n",
              "      buttonEl.onclick = () => {\n",
              "        google.colab.notebook.generateWithVariable('df');\n",
              "      }\n",
              "      })();\n",
              "    </script>\n",
              "  </div>\n",
              "\n",
              "    </div>\n",
              "  </div>\n"
            ],
            "application/vnd.google.colaboratory.intrinsic+json": {
              "type": "dataframe",
              "variable_name": "df",
              "summary": "{\n  \"name\": \"df\",\n  \"rows\": 2,\n  
\"fields\": [\n    {\n      \"column\": \"a\",\n      \"properties\": 
{\n        \"dtype\": \"number\",\n        \"std\": 0,\n        \"min\":
 1,\n        \"max\": 2,\n        \"num_unique_values\": 2,\n        
\"samples\": [\n          2,\n          1\n        ],\n        
\"semantic_type\": \"\",\n        \"description\": \"\"\n      }\n    
},\n    {\n      \"column\": \"b\",\n      \"properties\": {\n        
\"dtype\": \"number\",\n        \"std\": 7,\n        \"min\": 10,\n     
   \"max\": 20,\n        \"num_unique_values\": 2,\n        \"samples\":
 [\n          20,\n          10\n        ],\n        \"semantic_type\": 
\"\",\n        \"description\": \"\"\n      }\n    }\n  ]\n}"
            }
          },
          "metadata": {},
          "execution_count": 8
        }
      ]
    },
    {
      "cell_type": "code",
      "metadata": {
        "colab": {
          "base_uri": "https://localhost:8080/",
          "height": 80
        },
        "id": "1nMk1mOiPd1S",
        "outputId": "23cc5805-7a36-4891-8140-73aa9a2a59db"
      },
      "source": [
        "# Para filtrar dados: método query\n",
        "\n",
        "df.query('a &gt;= 2')"
      ],
      "execution_count": null,
      "outputs": [
        {
          "output_type": "execute_result",
          "data": {
            "text/plain": [
              "   a   b\n",
              "1  2  20"
            ],
            "text/html": [
              "\n",
              "  <div id="\&quot;df-f6541a23-62a4-4d24-b05e-6a7ba753e706\&quot;" class="\&quot;colab-df-container\&quot;">\n",
              "    <div>\n",
              "<style scoped="">\n",
              "    .dataframe tbody tr th:only-of-type {\n",
              "        vertical-align: middle;\n",
              "    }\n",
              "\n",
              "    .dataframe tbody tr th {\n",
              "        vertical-align: top;\n",
              "    }\n",
              "\n",
              "    .dataframe thead th {\n",
              "        text-align: right;\n",
              "    }\n",
              "</style>\n",
              "\n",
              "  \n",
              "    \n",
              "      \n",
              "      \n",
              "      \n",
              "    \n",
              "  \n",
              "  \n",
              "    \n",
              "      \n",
              "      \n",
              "      \n",
              "    \n",
              "  \n",
              "<table border="\&quot;1\&quot;" class="\&quot;dataframe\&quot;"><thead><tr style="\&quot;text-align:" right;\"=""><th></th><th>a</th><th>b</th></tr></thead><tbody><tr><th>1</th><td>2</td><td>20</td></tr></tbody></table>\n",
              "</div>\n",
              "    <div class="\&quot;colab-df-buttons\&quot;">\n",
              "\n",
              "  <div class="\&quot;colab-df-container\&quot;">\n",
              "    <button class="\&quot;colab-df-convert\&quot;" onclick="\&quot;convertToInteractive('df-f6541a23-62a4-4d24-b05e-6a7ba753e706')\&quot;\n&quot;," "="" title="\&quot;Convert" this="" dataframe="" to="" an="" interactive="" table.\"\n",="" style="\&quot;display:none;\&quot;">\n",
              "\n",
              "  <svg xmlns="\&quot;http://www.w3.org/2000/svg\&quot;" height="\&quot;24px\&quot;" viewBox="\&quot;0" -960="" 960="" 960\"="">\n",
              "    <path d="\&quot;M120-120v-720h720v720H120Zm60-500h600v-160H180v160Zm220" 220h160v-160h400v160zm0="" 220h160v-160h400v160zm180-400h160v-160h180v160zm440="" 0h160v-160h620v160zm180-180h160v-160h180v160zm440="" 0h160v-160h620v160z\"=""></path>\n",
              "  </svg>\n",
              "    </button>\n",
              "\n",
              "  <style>\n",
              "    .colab-df-container {\n",
              "      display:flex;\n",
              "      gap: 12px;\n",
              "    }\n",
              "\n",
              "    .colab-df-convert {\n",
              "      background-color: #E8F0FE;\n",
              "      border: none;\n",
              "      border-radius: 50%;\n",
              "      cursor: pointer;\n",
              "      display: none;\n",
              "      fill: #1967D2;\n",
              "      height: 32px;\n",
              "      padding: 0 0 0 0;\n",
              "      width: 32px;\n",
              "    }\n",
              "\n",
              "    .colab-df-convert:hover {\n",
              "      background-color: #E2EBFA;\n",
              "      box-shadow: 0px 1px 2px rgba(60, 64, 67, 0.3), 0px 1px 3px 1px rgba(60, 64, 67, 0.15);\n",
              "      fill: #174EA6;\n",
              "    }\n",
              "\n",
              "    .colab-df-buttons div {\n",
              "      margin-bottom: 4px;\n",
              "    }\n",
              "\n",
              "    [theme=dark] .colab-df-convert {\n",
              "      background-color: #3B4455;\n",
              "      fill: #D2E3FC;\n",
              "    }\n",
              "\n",
              "    [theme=dark] .colab-df-convert:hover {\n",
              "      background-color: #434B5C;\n",
              "      box-shadow: 0px 1px 3px 1px rgba(0, 0, 0, 0.15);\n",
              "      filter: drop-shadow(0px 1px 2px rgba(0, 0, 0, 0.3));\n",
              "      fill: #FFFFFF;\n",
              "    }\n",
              "  </style>\n",
              "\n",
              "    <script>\n",
              "      const buttonEl =\n",
              "        document.querySelector('#df-f6541a23-62a4-4d24-b05e-6a7ba753e706 button.colab-df-convert');\n",
              "      buttonEl.style.display =\n",
              "        google.colab.kernel.accessAllowed ? 'block' : 'none';\n",
              "\n",
              "      async function convertToInteractive(key) {\n",
              "        const element = document.querySelector('#df-f6541a23-62a4-4d24-b05e-6a7ba753e706');\n",
              "        const dataTable =\n",
              "          await google.colab.kernel.invokeFunction('convertToInteractive',\n",
              "                                                    [key], {});\n",
              "        if (!dataTable) return;\n",
              "\n",
              "        const docLinkHtml = 'Like what you see? Visit the ' +\n",
              "          '<a target=\"_blank\" href=https://colab.research.google.com/notebooks/data_table.ipynb>data table notebook</a>'\n",
              "          + ' to learn more about interactive tables.';\n",
              "        element.innerHTML = '';\n",
              "        dataTable['output_type'] = 'display_data';\n",
              "        await google.colab.output.renderOutput(dataTable, element);\n",
              "        const docLink = document.createElement('div');\n",
              "        docLink.innerHTML = docLinkHtml;\n",
              "        element.appendChild(docLink);\n",
              "      }\n",
              "    </script>\n",
              "  </div>\n",
              "\n",
              "\n",
              "    </div>\n",
              "  </div>\n"
            ],
            "application/vnd.google.colaboratory.intrinsic+json": {
              "type": "dataframe",
              "summary": "{\n  \"name\": \"df\",\n  \"rows\": 1,\n  
\"fields\": [\n    {\n      \"column\": \"a\",\n      \"properties\": 
{\n        \"dtype\": \"number\",\n        \"std\": null,\n        
\"min\": 2,\n        \"max\": 2,\n        \"num_unique_values\": 1,\n   
     \"samples\": [\n          2\n        ],\n        \"semantic_type\":
 \"\",\n        \"description\": \"\"\n      }\n    },\n    {\n      
\"column\": \"b\",\n      \"properties\": {\n        \"dtype\": 
\"number\",\n        \"std\": null,\n        \"min\": 20,\n        
\"max\": 20,\n        \"num_unique_values\": 1,\n        \"samples\": 
[\n          20\n        ],\n        \"semantic_type\": \"\",\n        
\"description\": \"\"\n      }\n    }\n  ]\n}"
            }
          },
          "metadata": {},
          "execution_count": 9
        }
      ]
    },
    {
      "cell_type": "code",
      "metadata": {
        "colab": {
          "base_uri": "https://localhost:8080/",
          "height": 125
        },
        "id": "PYNlbby0QTSq",
        "outputId": "88b162aa-6568-4bdb-f062-a30b71926f79"
      },
      "source": [
        "# Para acrescentar novas colunas ao df (coluna 'c', no 
caso)\n",
        "\n",
        "df['c'] = df['b'] * 10\n",
        "df"
      ],
      "execution_count": null,
      "outputs": [
        {
          "output_type": "execute_result",
          "data": {
            "text/plain": [
              "   a   b    c\n",
              "0  1  10  100\n",
              "1  2  20  200"
            ],
            "text/html": [
              "\n",
              "  <div id="\&quot;df-6060d3b5-e2cc-4953-83c6-4031604f04d1\&quot;" class="\&quot;colab-df-container\&quot;">\n",
              "    <div>\n",
              "<style scoped="">\n",
              "    .dataframe tbody tr th:only-of-type {\n",
              "        vertical-align: middle;\n",
              "    }\n",
              "\n",
              "    .dataframe tbody tr th {\n",
              "        vertical-align: top;\n",
              "    }\n",
              "\n",
              "    .dataframe thead th {\n",
              "        text-align: right;\n",
              "    }\n",
              "</style>\n",
              "\n",
              "  \n",
              "    \n",
              "      \n",
              "      \n",
              "      \n",
              "      \n",
              "    \n",
              "  \n",
              "  \n",
              "    \n",
              "      \n",
              "      \n",
              "      \n",
              "      \n",
              "    \n",
              "    \n",
              "      \n",
              "      \n",
              "      \n",
              "      \n",
              "    \n",
              "  \n",
              "<table border="\&quot;1\&quot;" class="\&quot;dataframe\&quot;"><thead><tr style="\&quot;text-align:" right;\"=""><th></th><th>a</th><th>b</th><th>c</th></tr></thead><tbody><tr><th>0</th><td>1</td><td>10</td><td>100</td></tr><tr><th>1</th><td>2</td><td>20</td><td>200</td></tr></tbody></table>\n",
              "</div>\n",
              "    <div class="\&quot;colab-df-buttons\&quot;">\n",
              "\n",
              "  <div class="\&quot;colab-df-container\&quot;">\n",
              "    <button class="\&quot;colab-df-convert\&quot;" onclick="\&quot;convertToInteractive('df-6060d3b5-e2cc-4953-83c6-4031604f04d1')\&quot;\n&quot;," "="" title="\&quot;Convert" this="" dataframe="" to="" an="" interactive="" table.\"\n",="" style="\&quot;display:none;\&quot;">\n",
              "\n",
              "  <svg xmlns="\&quot;http://www.w3.org/2000/svg\&quot;" height="\&quot;24px\&quot;" viewBox="\&quot;0" -960="" 960="" 960\"="">\n",
              "    <path d="\&quot;M120-120v-720h720v720H120Zm60-500h600v-160H180v160Zm220" 220h160v-160h400v160zm0="" 220h160v-160h400v160zm180-400h160v-160h180v160zm440="" 0h160v-160h620v160zm180-180h160v-160h180v160zm440="" 0h160v-160h620v160z\"=""></path>\n",
              "  </svg>\n",
              "    </button>\n",
              "\n",
              "  <style>\n",
              "    .colab-df-container {\n",
              "      display:flex;\n",
              "      gap: 12px;\n",
              "    }\n",
              "\n",
              "    .colab-df-convert {\n",
              "      background-color: #E8F0FE;\n",
              "      border: none;\n",
              "      border-radius: 50%;\n",
              "      cursor: pointer;\n",
              "      display: none;\n",
              "      fill: #1967D2;\n",
              "      height: 32px;\n",
              "      padding: 0 0 0 0;\n",
              "      width: 32px;\n",
              "    }\n",
              "\n",
              "    .colab-df-convert:hover {\n",
              "      background-color: #E2EBFA;\n",
              "      box-shadow: 0px 1px 2px rgba(60, 64, 67, 0.3), 0px 1px 3px 1px rgba(60, 64, 67, 0.15);\n",
              "      fill: #174EA6;\n",
              "    }\n",
              "\n",
              "    .colab-df-buttons div {\n",
              "      margin-bottom: 4px;\n",
              "    }\n",
              "\n",
              "    [theme=dark] .colab-df-convert {\n",
              "      background-color: #3B4455;\n",
              "      fill: #D2E3FC;\n",
              "    }\n",
              "\n",
              "    [theme=dark] .colab-df-convert:hover {\n",
              "      background-color: #434B5C;\n",
              "      box-shadow: 0px 1px 3px 1px rgba(0, 0, 0, 0.15);\n",
              "      filter: drop-shadow(0px 1px 2px rgba(0, 0, 0, 0.3));\n",
              "      fill: #FFFFFF;\n",
              "    }\n",
              "  </style>\n",
              "\n",
              "    <script>\n",
              "      const buttonEl =\n",
              "        document.querySelector('#df-6060d3b5-e2cc-4953-83c6-4031604f04d1 button.colab-df-convert');\n",
              "      buttonEl.style.display =\n",
              "        google.colab.kernel.accessAllowed ? 'block' : 'none';\n",
              "\n",
              "      async function convertToInteractive(key) {\n",
              "        const element = document.querySelector('#df-6060d3b5-e2cc-4953-83c6-4031604f04d1');\n",
              "        const dataTable =\n",
              "          await google.colab.kernel.invokeFunction('convertToInteractive',\n",
              "                                                    [key], {});\n",
              "        if (!dataTable) return;\n",
              "\n",
              "        const docLinkHtml = 'Like what you see? Visit the ' +\n",
              "          '<a target=\"_blank\" href=https://colab.research.google.com/notebooks/data_table.ipynb>data table notebook</a>'\n",
              "          + ' to learn more about interactive tables.';\n",
              "        element.innerHTML = '';\n",
              "        dataTable['output_type'] = 'display_data';\n",
              "        await google.colab.output.renderOutput(dataTable, element);\n",
              "        const docLink = document.createElement('div');\n",
              "        docLink.innerHTML = docLinkHtml;\n",
              "        element.appendChild(docLink);\n",
              "      }\n",
              "    </script>\n",
              "  </div>\n",
              "\n",
              "\n",
              "<div id="\&quot;df-cd4cc972-c72a-4865-9b5d-294e9c80c82d\&quot;">\n",
              "  <button class="\&quot;colab-df-quickchart\&quot;" onclick="\&quot;quickchart('df-cd4cc972-c72a-4865-9b5d-294e9c80c82d')\&quot;\n&quot;," "="" title="\&quot;Suggest" charts\"\n",="" style="\&quot;display:none;\&quot;">\n",
              "\n",
              "<svg xmlns="\&quot;http://www.w3.org/2000/svg\&quot;" height="\&quot;24px\&quot;viewBox=\&quot;0" 0="" 24="" 24\"\n",="" "="" width="\&quot;24px\&quot;">\n",
              "    <g>\n",
              "        <path d="\&quot;M19" 3h5c-1.1="" 0-2="" .9-2="" 2v14c0="" 1.1.9="" 2="" 2h14c1.1="" 0="" 2-.9="" 2-2v5c0-1.1-.9-2-2-2zm9="" 17h7v-7h2v7zm4="" 0h-2v7h2v10zm4="" 0h-2v-4h2v4z\"=""></path>\n",
              "    </g>\n",
              "</svg>\n",
              "  </button>\n",
              "\n",
              "<style>\n",
              "  .colab-df-quickchart {\n",
              "      --bg-color: #E8F0FE;\n",
              "      --fill-color: #1967D2;\n",
              "      --hover-bg-color: #E2EBFA;\n",
              "      --hover-fill-color: #174EA6;\n",
              "      --disabled-fill-color: #AAA;\n",
              "      --disabled-bg-color: #DDD;\n",
              "  }\n",
              "\n",
              "  [theme=dark] .colab-df-quickchart {\n",
              "      --bg-color: #3B4455;\n",
              "      --fill-color: #D2E3FC;\n",
              "      --hover-bg-color: #434B5C;\n",
              "      --hover-fill-color: #FFFFFF;\n",
              "      --disabled-bg-color: #3B4455;\n",
              "      --disabled-fill-color: #666;\n",
              "  }\n",
              "\n",
              "  .colab-df-quickchart {\n",
              "    background-color: var(--bg-color);\n",
              "    border: none;\n",
              "    border-radius: 50%;\n",
              "    cursor: pointer;\n",
              "    display: none;\n",
              "    fill: var(--fill-color);\n",
              "    height: 32px;\n",
              "    padding: 0;\n",
              "    width: 32px;\n",
              "  }\n",
              "\n",
              "  .colab-df-quickchart:hover {\n",
              "    background-color: var(--hover-bg-color);\n",
              "    box-shadow: 0 1px 2px rgba(60, 64, 67, 0.3), 0 1px 3px 1px rgba(60, 64, 67, 0.15);\n",
              "    fill: var(--button-hover-fill-color);\n",
              "  }\n",
              "\n",
              "  .colab-df-quickchart-complete:disabled,\n",
              "  .colab-df-quickchart-complete:disabled:hover {\n",
              "    background-color: var(--disabled-bg-color);\n",
              "    fill: var(--disabled-fill-color);\n",
              "    box-shadow: none;\n",
              "  }\n",
              "\n",
              "  .colab-df-spinner {\n",
              "    border: 2px solid var(--fill-color);\n",
              "    border-color: transparent;\n",
              "    border-bottom-color: var(--fill-color);\n",
              "    animation:\n",
              "      spin 1s steps(1) infinite;\n",
              "  }\n",
              "\n",
              "  @keyframes spin {\n",
              "    0% {\n",
              "      border-color: transparent;\n",
              "      border-bottom-color: var(--fill-color);\n",
              "      border-left-color: var(--fill-color);\n",
              "    }\n",
              "    20% {\n",
              "      border-color: transparent;\n",
              "      border-left-color: var(--fill-color);\n",
              "      border-top-color: var(--fill-color);\n",
              "    }\n",
              "    30% {\n",
              "      border-color: transparent;\n",
              "      border-left-color: var(--fill-color);\n",
              "      border-top-color: var(--fill-color);\n",
              "      border-right-color: var(--fill-color);\n",
              "    }\n",
              "    40% {\n",
              "      border-color: transparent;\n",
              "      border-right-color: var(--fill-color);\n",
              "      border-top-color: var(--fill-color);\n",
              "    }\n",
              "    60% {\n",
              "      border-color: transparent;\n",
              "      border-right-color: var(--fill-color);\n",
              "    }\n",
              "    80% {\n",
              "      border-color: transparent;\n",
              "      border-right-color: var(--fill-color);\n",
              "      border-bottom-color: var(--fill-color);\n",
              "    }\n",
              "    90% {\n",
              "      border-color: transparent;\n",
              "      border-bottom-color: var(--fill-color);\n",
              "    }\n",
              "  }\n",
              "</style>\n",
              "\n",
              "  <script>\n",
              "    async function quickchart(key) {\n",
              "      const quickchartButtonEl =\n",
              "        document.querySelector('#' + key + ' button');\n",
              "      quickchartButtonEl.disabled = true;  // To prevent multiple clicks.\n",
              "      quickchartButtonEl.classList.add('colab-df-spinner');\n",
              "      try {\n",
              "        const charts = await google.colab.kernel.invokeFunction(\n",
              "            'suggestCharts', [key], {});\n",
              "      } catch (error) {\n",
              "        console.error('Error during call to suggestCharts:', error);\n",
              "      }\n",
              "      quickchartButtonEl.classList.remove('colab-df-spinner');\n",
              "      quickchartButtonEl.classList.add('colab-df-quickchart-complete');\n",
              "    }\n",
              "    (() => {\n",
              "      let quickchartButtonEl =\n",
              "        document.querySelector('#df-cd4cc972-c72a-4865-9b5d-294e9c80c82d button');\n",
              "      quickchartButtonEl.style.display =\n",
              "        google.colab.kernel.accessAllowed ? 'block' : 'none';\n",
              "    })();\n",
              "  </script>\n",
              "</div>\n",
              "\n",
              "  <div id="\&quot;id_f16bef53-2a39-4c28-88be-a0c9d111b6d9\&quot;">\n",
              "    <style>\n",
              "      .colab-df-generate {\n",
              "        background-color: #E8F0FE;\n",
              "        border: none;\n",
              "        border-radius: 50%;\n",
              "        cursor: pointer;\n",
              "        display: none;\n",
              "        fill: #1967D2;\n",
              "        height: 32px;\n",
              "        padding: 0 0 0 0;\n",
              "        width: 32px;\n",
              "      }\n",
              "\n",
              "      .colab-df-generate:hover {\n",
              "        background-color: #E2EBFA;\n",
              "        box-shadow: 0px 1px 2px rgba(60, 64, 67, 0.3), 0px 1px 3px 1px rgba(60, 64, 67, 0.15);\n",
              "        fill: #174EA6;\n",
              "      }\n",
              "\n",
              "      [theme=dark] .colab-df-generate {\n",
              "        background-color: #3B4455;\n",
              "        fill: #D2E3FC;\n",
              "      }\n",
              "\n",
              "      [theme=dark] .colab-df-generate:hover {\n",
              "        background-color: #434B5C;\n",
              "        box-shadow: 0px 1px 3px 1px rgba(0, 0, 0, 0.15);\n",
              "        filter: drop-shadow(0px 1px 2px rgba(0, 0, 0, 0.3));\n",
              "        fill: #FFFFFF;\n",
              "      }\n",
              "    </style>\n",
              "    <button class="\&quot;colab-df-generate\&quot;" onclick="\&quot;generateWithVariable('df')\&quot;\n&quot;," "="" title="\&quot;Generate" code="" using="" this="" dataframe.\"\n",="" style="\&quot;display:none;\&quot;">\n",
              "\n",
              "  <svg xmlns="\&quot;http://www.w3.org/2000/svg\&quot;" height="\&quot;24px\&quot;viewBox=\&quot;0" 0="" 24="" 24\"\n",="" "="" width="\&quot;24px\&quot;">\n",
              "    <path d="\&quot;M7,19H8.4L18.45,9,17,7.55,7,17.6ZM5,21V16.75L18.45,3.32a2,2,0,0,1,2.83,0l1.4,1.43a1.91,1.91,0,0,1,.58,1.4,1.91,1.91,0,0,1-.58,1.4L9.25,21ZM18.45,9,17,7.55Zm-12,3A5.31,5.31,0,0,0,4.9,8.1,5.31,5.31,0,0,0,1,6.5,5.31,5.31,0,0,0,4.9,4.9,5.31,5.31,0,0,0,6.5,1,5.31,5.31,0,0,0,8.1,4.9,5.31,5.31,0,0,0,12,6.5,5.46,5.46,0,0,0,6.5,12Z\&quot;/">\n",
              "  </path></svg>\n",
              "    </button>\n",
              "    <script>\n",
              "      (() => {\n",
              "      const buttonEl =\n",
              "        document.querySelector('#id_f16bef53-2a39-4c28-88be-a0c9d111b6d9 button.colab-df-generate');\n",
              "      buttonEl.style.display =\n",
              "        google.colab.kernel.accessAllowed ? 'block' : 'none';\n",
              "\n",
              "      buttonEl.onclick = () => {\n",
              "        google.colab.notebook.generateWithVariable('df');\n",
              "      }\n",
              "      })();\n",
              "    </script>\n",
              "  </div>\n",
              "\n",
              "    </div>\n",
              "  </div>\n"
            ],
            "application/vnd.google.colaboratory.intrinsic+json": {
              "type": "dataframe",
              "variable_name": "df",
              "summary": "{\n  \"name\": \"df\",\n  \"rows\": 2,\n  
\"fields\": [\n    {\n      \"column\": \"a\",\n      \"properties\": 
{\n        \"dtype\": \"number\",\n        \"std\": 0,\n        \"min\":
 1,\n        \"max\": 2,\n        \"num_unique_values\": 2,\n        
\"samples\": [\n          2,\n          1\n        ],\n        
\"semantic_type\": \"\",\n        \"description\": \"\"\n      }\n    
},\n    {\n      \"column\": \"b\",\n      \"properties\": {\n        
\"dtype\": \"number\",\n        \"std\": 7,\n        \"min\": 10,\n     
   \"max\": 20,\n        \"num_unique_values\": 2,\n        \"samples\":
 [\n          20,\n          10\n        ],\n        \"semantic_type\": 
\"\",\n        \"description\": \"\"\n      }\n    },\n    {\n      
\"column\": \"c\",\n      \"properties\": {\n        \"dtype\": 
\"number\",\n        \"std\": 70,\n        \"min\": 100,\n        
\"max\": 200,\n        \"num_unique_values\": 2,\n        \"samples\": 
[\n          200,\n          100\n        ],\n        \"semantic_type\":
 \"\",\n        \"description\": \"\"\n      }\n    }\n  ]\n}"
            }
          },
          "metadata": {},
          "execution_count": 10
        }
      ]
    },
    {
      "cell_type": "markdown",
      "metadata": {
        "id": "MY5NYpSpOdwJ"
      },
      "source": [
        "**Exemplo de aplicação**\n",
        "\n",
        "Vamos usar o Pandas para mostrar algumas estatísticas a 
respeito do nosso Guarani."
      ]
    },
    {
      "cell_type": "code",
      "metadata": {
        "id": "2JBtCZ3xXN9g",
        "colab": {
          "base_uri": "https://localhost:8080/"
        },
        "outputId": "68c068c5-2c80-4090-bfa2-aa45b5f1b55f"
      },
      "source": [
        "# Vamos usar o tokenizador do NLTK\n",
        "import nltk\n",
        "nltk.download('punkt_tab')\n",
        "from nltk.tokenize import sent_tokenize, word_tokenize\n",
        "\n",
        "\n",
        "def tokenizar(txt: str) -&gt; list:\n",
        "    return word_tokenize(txt, language='portuguese')\n",
        "\n",
        "\n",
        "# Vamos usar também nossa função de faxina rápida\n",
        "def limpar(lista: list) -&gt; list:\n",
        "    return [i.lower() for i in lista if i.isalpha()]"
      ],
      "execution_count": null,
      "outputs": [
        {
          "output_type": "stream",
          "name": "stderr",
          "text": [
            "[nltk_data] Downloading package punkt_tab to 
/root/nltk_data...\n",
            "[nltk_data]   Unzipping tokenizers/punkt_tab.zip.\n"
          ]
        }
      ]
    },
    {
      "cell_type": "code",
      "metadata": {
        "id": "z31DuxRqMisb"
      },
      "source": [
        "# Tokenização de palavras e pontuação\n",
        "\n",
        "palavras = limpar(tokenizar(texto))"
      ],
      "execution_count": null,
      "outputs": []
    },
    {
      "cell_type": "code",
      "metadata": {
        "id": "j8Pcr0J7EYpJ",
        "colab": {
          "base_uri": "https://localhost:8080/"
        },
        "outputId": "36dc59a8-3959-4661-d873-fc564533c71e"
      },
      "source": [
        "# Conferindo...\n",
        "\n",
        "palavras[:10]"
      ],
      "execution_count": null,
      "outputs": [
        {
          "output_type": "execute_result",
          "data": {
            "text/plain": [
              "['o',\n",
              " 'guarani',\n",
              " 'de',\n",
              " 'josé',\n",
              " 'de',\n",
              " 'alencar',\n",
              " 'fonte',\n",
              " 'alencar',\n",
              " 'josé',\n",
              " 'de']"
            ]
          },
          "metadata": {},
          "execution_count": 15
        }
      ]
    },
    {
      "cell_type": "code",
      "metadata": {
        "id": "3jaM9XOwEYcK"
      },
      "source": [
        "# Agora, vamos gerar o vocabulário\n",
        "\n",
        "vocab = set(palavras)"
      ],
      "execution_count": null,
      "outputs": []
    },
    {
      "cell_type": "code",
      "metadata": {
        "colab": {
          "base_uri": "https://localhost:8080/"
        },
        "id": "i53w56lFNQZi",
        "outputId": "9dcbe377-d108-459b-d8cd-af773c63ddf7"
      },
      "source": [
        "# Vamos criar uma lista de tuplas (palavra, tamanho da 
palavra).\n",
        "\n",
        "tamanhos_palavras = [(i, len(i)) for i in vocab]\n",
        "tamanhos_palavras[:20]"
      ],
      "execution_count": null,
      "outputs": [
        {
          "output_type": "execute_result",
          "data": {
            "text/plain": [
              "[('subterrâneas', 12),\n",
              " ('fascinavam', 10),\n",
              " ('comovida', 8),\n",
              " ('repreendi', 9),\n",
              " ('tas', 3),\n",
              " ('cruéis', 6),\n",
              " ('voltear', 7),\n",
              " ('convinha', 8),\n",
              " ('suspenderam', 11),\n",
              " ('trair', 5),\n",
              " ('brasil', 6),\n",
              " ('existência', 10),\n",
              " ('cravados', 8),\n",
              " ('gavião', 6),\n",
              " ('mato', 4),\n",
              " ('demais', 6),\n",
              " ('elevou', 6),\n",
              " ('desterro', 8),\n",
              " ('desabafo', 8),\n",
              " ('distinguiu', 10)]"
            ]
          },
          "metadata": {},
          "execution_count": 17
        }
      ]
    },
    {
      "cell_type": "code",
      "metadata": {
        "colab": {
          "base_uri": "https://localhost:8080/"
        },
        "id": "PH7sSnArNQZk",
        "outputId": "f0cd1442-96fb-43d6-a315-a36bee2f52b4"
      },
      "source": [
        "# Essas tuplas vão para um DataFrame\n",
        "\n",
        "df = pd.DataFrame(tamanhos_palavras, columns=['palavra', 
'tamanho'])\n",
        "print(df.head())"
      ],
      "execution_count": null,
      "outputs": [
        {
          "output_type": "stream",
          "name": "stdout",
          "text": [
            "        palavra  tamanho\n",
            "0  subterrâneas       12\n",
            "1    fascinavam       10\n",
            "2      comovida        8\n",
            "3     repreendi        9\n",
            "4           tas        3\n"
          ]
        }
      ]
    },
    {
      "cell_type": "code",
      "source": [
        "# Já podemos gerar algumas estatísticas.\n",
        "# Primeiro, uma sumarização geral dos dados:\n",
        "\n",
        "df.describe()"
      ],
      "metadata": {
        "colab": {
          "base_uri": "https://localhost:8080/",
          "height": 300
        },
        "id": "gxpgucxdb5Qt",
        "outputId": "a107fa7d-bd55-4404-e2e2-b4679526ab5b"
      },
      "execution_count": null,
      "outputs": [
        {
          "output_type": "execute_result",
          "data": {
            "text/plain": [
              "            tamanho\n",
              "count  10692.000000\n",
              "mean       7.571455\n",
              "std        2.237728\n",
              "min        1.000000\n",
              "25%        6.000000\n",
              "50%        7.000000\n",
              "75%        9.000000\n",
              "max       18.000000"
            ],
            "text/html": [
              "\n",
              "  <div id="\&quot;df-854be5e3-01db-444a-bcae-8f604e4891bf\&quot;" class="\&quot;colab-df-container\&quot;">\n",
              "    <div>\n",
              "<style scoped="">\n",
              "    .dataframe tbody tr th:only-of-type {\n",
              "        vertical-align: middle;\n",
              "    }\n",
              "\n",
              "    .dataframe tbody tr th {\n",
              "        vertical-align: top;\n",
              "    }\n",
              "\n",
              "    .dataframe thead th {\n",
              "        text-align: right;\n",
              "    }\n",
              "</style>\n",
              "\n",
              "  \n",
              "    \n",
              "      \n",
              "      \n",
              "    \n",
              "  \n",
              "  \n",
              "    \n",
              "      \n",
              "      \n",
              "    \n",
              "    \n",
              "      \n",
              "      \n",
              "    \n",
              "    \n",
              "      \n",
              "      \n",
              "    \n",
              "    \n",
              "      \n",
              "      \n",
              "    \n",
              "    \n",
              "      \n",
              "      \n",
              "    \n",
              "    \n",
              "      \n",
              "      \n",
              "    \n",
              "    \n",
              "      \n",
              "      \n",
              "    \n",
              "    \n",
              "      \n",
              "      \n",
              "    \n",
              "  \n",
              "<table border="\&quot;1\&quot;" class="\&quot;dataframe\&quot;"><thead><tr style="\&quot;text-align:" right;\"=""><th></th><th>tamanho</th></tr></thead><tbody><tr><th>count</th><td>10692.000000</td></tr><tr><th>mean</th><td>7.571455</td></tr><tr><th>std</th><td>2.237728</td></tr><tr><th>min</th><td>1.000000</td></tr><tr><th>25%</th><td>6.000000</td></tr><tr><th>50%</th><td>7.000000</td></tr><tr><th>75%</th><td>9.000000</td></tr><tr><th>max</th><td>18.000000</td></tr></tbody></table>\n",
              "</div>\n",
              "    <div class="\&quot;colab-df-buttons\&quot;">\n",
              "\n",
              "  <div class="\&quot;colab-df-container\&quot;">\n",
              "    <button class="\&quot;colab-df-convert\&quot;" onclick="\&quot;convertToInteractive('df-854be5e3-01db-444a-bcae-8f604e4891bf')\&quot;\n&quot;," "="" title="\&quot;Convert" this="" dataframe="" to="" an="" interactive="" table.\"\n",="" style="\&quot;display:none;\&quot;">\n",
              "\n",
              "  <svg xmlns="\&quot;http://www.w3.org/2000/svg\&quot;" height="\&quot;24px\&quot;" viewBox="\&quot;0" -960="" 960="" 960\"="">\n",
              "    <path d="\&quot;M120-120v-720h720v720H120Zm60-500h600v-160H180v160Zm220" 220h160v-160h400v160zm0="" 220h160v-160h400v160zm180-400h160v-160h180v160zm440="" 0h160v-160h620v160zm180-180h160v-160h180v160zm440="" 0h160v-160h620v160z\"=""></path>\n",
              "  </svg>\n",
              "    </button>\n",
              "\n",
              "  <style>\n",
              "    .colab-df-container {\n",
              "      display:flex;\n",
              "      gap: 12px;\n",
              "    }\n",
              "\n",
              "    .colab-df-convert {\n",
              "      background-color: #E8F0FE;\n",
              "      border: none;\n",
              "      border-radius: 50%;\n",
              "      cursor: pointer;\n",
              "      display: none;\n",
              "      fill: #1967D2;\n",
              "      height: 32px;\n",
              "      padding: 0 0 0 0;\n",
              "      width: 32px;\n",
              "    }\n",
              "\n",
              "    .colab-df-convert:hover {\n",
              "      background-color: #E2EBFA;\n",
              "      box-shadow: 0px 1px 2px rgba(60, 64, 67, 0.3), 0px 1px 3px 1px rgba(60, 64, 67, 0.15);\n",
              "      fill: #174EA6;\n",
              "    }\n",
              "\n",
              "    .colab-df-buttons div {\n",
              "      margin-bottom: 4px;\n",
              "    }\n",
              "\n",
              "    [theme=dark] .colab-df-convert {\n",
              "      background-color: #3B4455;\n",
              "      fill: #D2E3FC;\n",
              "    }\n",
              "\n",
              "    [theme=dark] .colab-df-convert:hover {\n",
              "      background-color: #434B5C;\n",
              "      box-shadow: 0px 1px 3px 1px rgba(0, 0, 0, 0.15);\n",
              "      filter: drop-shadow(0px 1px 2px rgba(0, 0, 0, 0.3));\n",
              "      fill: #FFFFFF;\n",
              "    }\n",
              "  </style>\n",
              "\n",
              "    <script>\n",
              "      const buttonEl =\n",
              "        document.querySelector('#df-854be5e3-01db-444a-bcae-8f604e4891bf button.colab-df-convert');\n",
              "      buttonEl.style.display =\n",
              "        google.colab.kernel.accessAllowed ? 'block' : 'none';\n",
              "\n",
              "      async function convertToInteractive(key) {\n",
              "        const element = document.querySelector('#df-854be5e3-01db-444a-bcae-8f604e4891bf');\n",
              "        const dataTable =\n",
              "          await google.colab.kernel.invokeFunction('convertToInteractive',\n",
              "                                                    [key], {});\n",
              "        if (!dataTable) return;\n",
              "\n",
              "        const docLinkHtml = 'Like what you see? Visit the ' +\n",
              "          '<a target=\"_blank\" href=https://colab.research.google.com/notebooks/data_table.ipynb>data table notebook</a>'\n",
              "          + ' to learn more about interactive tables.';\n",
              "        element.innerHTML = '';\n",
              "        dataTable['output_type'] = 'display_data';\n",
              "        await google.colab.output.renderOutput(dataTable, element);\n",
              "        const docLink = document.createElement('div');\n",
              "        docLink.innerHTML = docLinkHtml;\n",
              "        element.appendChild(docLink);\n",
              "      }\n",
              "    </script>\n",
              "  </div>\n",
              "\n",
              "\n",
              "<div id="\&quot;df-79f590d6-6f65-401c-9dfe-673cec2253b7\&quot;">\n",
              "  <button class="\&quot;colab-df-quickchart\&quot;" onclick="\&quot;quickchart('df-79f590d6-6f65-401c-9dfe-673cec2253b7')\&quot;\n&quot;," "="" title="\&quot;Suggest" charts\"\n",="" style="\&quot;display:none;\&quot;">\n",
              "\n",
              "<svg xmlns="\&quot;http://www.w3.org/2000/svg\&quot;" height="\&quot;24px\&quot;viewBox=\&quot;0" 0="" 24="" 24\"\n",="" "="" width="\&quot;24px\&quot;">\n",
              "    <g>\n",
              "        <path d="\&quot;M19" 3h5c-1.1="" 0-2="" .9-2="" 2v14c0="" 1.1.9="" 2="" 2h14c1.1="" 0="" 2-.9="" 2-2v5c0-1.1-.9-2-2-2zm9="" 17h7v-7h2v7zm4="" 0h-2v7h2v10zm4="" 0h-2v-4h2v4z\"=""></path>\n",
              "    </g>\n",
              "</svg>\n",
              "  </button>\n",
              "\n",
              "<style>\n",
              "  .colab-df-quickchart {\n",
              "      --bg-color: #E8F0FE;\n",
              "      --fill-color: #1967D2;\n",
              "      --hover-bg-color: #E2EBFA;\n",
              "      --hover-fill-color: #174EA6;\n",
              "      --disabled-fill-color: #AAA;\n",
              "      --disabled-bg-color: #DDD;\n",
              "  }\n",
              "\n",
              "  [theme=dark] .colab-df-quickchart {\n",
              "      --bg-color: #3B4455;\n",
              "      --fill-color: #D2E3FC;\n",
              "      --hover-bg-color: #434B5C;\n",
              "      --hover-fill-color: #FFFFFF;\n",
              "      --disabled-bg-color: #3B4455;\n",
              "      --disabled-fill-color: #666;\n",
              "  }\n",
              "\n",
              "  .colab-df-quickchart {\n",
              "    background-color: var(--bg-color);\n",
              "    border: none;\n",
              "    border-radius: 50%;\n",
              "    cursor: pointer;\n",
              "    display: none;\n",
              "    fill: var(--fill-color);\n",
              "    height: 32px;\n",
              "    padding: 0;\n",
              "    width: 32px;\n",
              "  }\n",
              "\n",
              "  .colab-df-quickchart:hover {\n",
              "    background-color: var(--hover-bg-color);\n",
              "    box-shadow: 0 1px 2px rgba(60, 64, 67, 0.3), 0 1px 3px 1px rgba(60, 64, 67, 0.15);\n",
              "    fill: var(--button-hover-fill-color);\n",
              "  }\n",
              "\n",
              "  .colab-df-quickchart-complete:disabled,\n",
              "  .colab-df-quickchart-complete:disabled:hover {\n",
              "    background-color: var(--disabled-bg-color);\n",
              "    fill: var(--disabled-fill-color);\n",
              "    box-shadow: none;\n",
              "  }\n",
              "\n",
              "  .colab-df-spinner {\n",
              "    border: 2px solid var(--fill-color);\n",
              "    border-color: transparent;\n",
              "    border-bottom-color: var(--fill-color);\n",
              "    animation:\n",
              "      spin 1s steps(1) infinite;\n",
              "  }\n",
              "\n",
              "  @keyframes spin {\n",
              "    0% {\n",
              "      border-color: transparent;\n",
              "      border-bottom-color: var(--fill-color);\n",
              "      border-left-color: var(--fill-color);\n",
              "    }\n",
              "    20% {\n",
              "      border-color: transparent;\n",
              "      border-left-color: var(--fill-color);\n",
              "      border-top-color: var(--fill-color);\n",
              "    }\n",
              "    30% {\n",
              "      border-color: transparent;\n",
              "      border-left-color: var(--fill-color);\n",
              "      border-top-color: var(--fill-color);\n",
              "      border-right-color: var(--fill-color);\n",
              "    }\n",
              "    40% {\n",
              "      border-color: transparent;\n",
              "      border-right-color: var(--fill-color);\n",
              "      border-top-color: var(--fill-color);\n",
              "    }\n",
              "    60% {\n",
              "      border-color: transparent;\n",
              "      border-right-color: var(--fill-color);\n",
              "    }\n",
              "    80% {\n",
              "      border-color: transparent;\n",
              "      border-right-color: var(--fill-color);\n",
              "      border-bottom-color: var(--fill-color);\n",
              "    }\n",
              "    90% {\n",
              "      border-color: transparent;\n",
              "      border-bottom-color: var(--fill-color);\n",
              "    }\n",
              "  }\n",
              "</style>\n",
              "\n",
              "  <script>\n",
              "    async function quickchart(key) {\n",
              "      const quickchartButtonEl =\n",
              "        document.querySelector('#' + key + ' button');\n",
              "      quickchartButtonEl.disabled = true;  // To prevent multiple clicks.\n",
              "      quickchartButtonEl.classList.add('colab-df-spinner');\n",
              "      try {\n",
              "        const charts = await google.colab.kernel.invokeFunction(\n",
              "            'suggestCharts', [key], {});\n",
              "      } catch (error) {\n",
              "        console.error('Error during call to suggestCharts:', error);\n",
              "      }\n",
              "      quickchartButtonEl.classList.remove('colab-df-spinner');\n",
              "      quickchartButtonEl.classList.add('colab-df-quickchart-complete');\n",
              "    }\n",
              "    (() => {\n",
              "      let quickchartButtonEl =\n",
              "        document.querySelector('#df-79f590d6-6f65-401c-9dfe-673cec2253b7 button');\n",
              "      quickchartButtonEl.style.display =\n",
              "        google.colab.kernel.accessAllowed ? 'block' : 'none';\n",
              "    })();\n",
              "  </script>\n",
              "</div>\n",
              "\n",
              "    </div>\n",
              "  </div>\n"
            ],
            "application/vnd.google.colaboratory.intrinsic+json": {
              "type": "dataframe",
              "summary": "{\n  \"name\": \"df\",\n  \"rows\": 8,\n  
\"fields\": [\n    {\n      \"column\": \"tamanho\",\n      
\"properties\": {\n        \"dtype\": \"number\",\n        \"std\": 
3777.6300902285147,\n        \"min\": 1.0,\n        \"max\": 10692.0,\n 
       \"num_unique_values\": 8,\n        \"samples\": [\n          
7.5714552936775155,\n          7.0,\n          10692.0\n        ],\n    
    \"semantic_type\": \"\",\n        \"description\": \"\"\n      }\n  
  }\n  ]\n}"
            }
          },
          "metadata": {},
          "execution_count": 19
        }
      ]
    },
    {
      "cell_type": "code",
      "source": [
        "# É simples gerar estatísticas das séries de dados 
(colunas).\n",
        "# Aqui vai a mediana.\n",
        "# Lembre-se: se a mediana for menor que a média, isso signfica 
que valores altos\n",
        "# (outliers) estão puxando a média para cima.\n",
        "\n",
        "df['tamanho'].median()"
      ],
      "metadata": {
        "colab": {
          "base_uri": "https://localhost:8080/"
        },
        "id": "f5cbVKgIcF8u",
        "outputId": "f77a4fca-d199-4ced-927c-b5e2d9c6853c"
      },
      "execution_count": null,
      "outputs": [
        {
          "output_type": "execute_result",
          "data": {
            "text/plain": [
              "7.0"
            ]
          },
          "metadata": {},
          "execution_count": 20
        }
      ]
    },
    {
      "cell_type": "code",
      "source": [
        "# Com o Pandas, é muito rápido localizar os Hápax Legômena (e 
excluí-los, se necessário)\n",
        "\n",
        "# Primeiro, cria-se um DataFrame com as palavras isoladas\n",
        "df_tokens = pd.DataFrame()\n",
        "df_tokens['palavra'] = palavras\n",
        "df_tokens.head()"
      ],
      "metadata": {
        "colab": {
          "base_uri": "https://localhost:8080/",
          "height": 206
        },
        "id": "sIUvhcVFe_eR",
        "outputId": "957e8306-2849-4122-dbe5-aa0186af3301"
      },
      "execution_count": null,
      "outputs": [
        {
          "output_type": "execute_result",
          "data": {
            "text/plain": [
              "   palavra\n",
              "0        o\n",
              "1  guarani\n",
              "2       de\n",
              "3     josé\n",
              "4       de"
            ],
            "text/html": [
              "\n",
              "  <div id="\&quot;df-78152abe-491d-4b1f-ac74-d00ac43002ef\&quot;" class="\&quot;colab-df-container\&quot;">\n",
              "    <div>\n",
              "<style scoped="">\n",
              "    .dataframe tbody tr th:only-of-type {\n",
              "        vertical-align: middle;\n",
              "    }\n",
              "\n",
              "    .dataframe tbody tr th {\n",
              "        vertical-align: top;\n",
              "    }\n",
              "\n",
              "    .dataframe thead th {\n",
              "        text-align: right;\n",
              "    }\n",
              "</style>\n",
              "\n",
              "  \n",
              "    \n",
              "      \n",
              "      \n",
              "    \n",
              "  \n",
              "  \n",
              "    \n",
              "      \n",
              "      \n",
              "    \n",
              "    \n",
              "      \n",
              "      \n",
              "    \n",
              "    \n",
              "      \n",
              "      \n",
              "    \n",
              "    \n",
              "      \n",
              "      \n",
              "    \n",
              "    \n",
              "      \n",
              "      \n",
              "    \n",
              "  \n",
              "<table border="\&quot;1\&quot;" class="\&quot;dataframe\&quot;"><thead><tr style="\&quot;text-align:" right;\"=""><th></th><th>palavra</th></tr></thead><tbody><tr><th>0</th><td>o</td></tr><tr><th>1</th><td>guarani</td></tr><tr><th>2</th><td>de</td></tr><tr><th>3</th><td>josé</td></tr><tr><th>4</th><td>de</td></tr></tbody></table>\n",
              "</div>\n",
              "    <div class="\&quot;colab-df-buttons\&quot;">\n",
              "\n",
              "  <div class="\&quot;colab-df-container\&quot;">\n",
              "    <button class="\&quot;colab-df-convert\&quot;" onclick="\&quot;convertToInteractive('df-78152abe-491d-4b1f-ac74-d00ac43002ef')\&quot;\n&quot;," "="" title="\&quot;Convert" this="" dataframe="" to="" an="" interactive="" table.\"\n",="" style="\&quot;display:none;\&quot;">\n",
              "\n",
              "  <svg xmlns="\&quot;http://www.w3.org/2000/svg\&quot;" height="\&quot;24px\&quot;" viewBox="\&quot;0" -960="" 960="" 960\"="">\n",
              "    <path d="\&quot;M120-120v-720h720v720H120Zm60-500h600v-160H180v160Zm220" 220h160v-160h400v160zm0="" 220h160v-160h400v160zm180-400h160v-160h180v160zm440="" 0h160v-160h620v160zm180-180h160v-160h180v160zm440="" 0h160v-160h620v160z\"=""></path>\n",
              "  </svg>\n",
              "    </button>\n",
              "\n",
              "  <style>\n",
              "    .colab-df-container {\n",
              "      display:flex;\n",
              "      gap: 12px;\n",
              "    }\n",
              "\n",
              "    .colab-df-convert {\n",
              "      background-color: #E8F0FE;\n",
              "      border: none;\n",
              "      border-radius: 50%;\n",
              "      cursor: pointer;\n",
              "      display: none;\n",
              "      fill: #1967D2;\n",
              "      height: 32px;\n",
              "      padding: 0 0 0 0;\n",
              "      width: 32px;\n",
              "    }\n",
              "\n",
              "    .colab-df-convert:hover {\n",
              "      background-color: #E2EBFA;\n",
              "      box-shadow: 0px 1px 2px rgba(60, 64, 67, 0.3), 0px 1px 3px 1px rgba(60, 64, 67, 0.15);\n",
              "      fill: #174EA6;\n",
              "    }\n",
              "\n",
              "    .colab-df-buttons div {\n",
              "      margin-bottom: 4px;\n",
              "    }\n",
              "\n",
              "    [theme=dark] .colab-df-convert {\n",
              "      background-color: #3B4455;\n",
              "      fill: #D2E3FC;\n",
              "    }\n",
              "\n",
              "    [theme=dark] .colab-df-convert:hover {\n",
              "      background-color: #434B5C;\n",
              "      box-shadow: 0px 1px 3px 1px rgba(0, 0, 0, 0.15);\n",
              "      filter: drop-shadow(0px 1px 2px rgba(0, 0, 0, 0.3));\n",
              "      fill: #FFFFFF;\n",
              "    }\n",
              "  </style>\n",
              "\n",
              "    <script>\n",
              "      const buttonEl =\n",
              "        document.querySelector('#df-78152abe-491d-4b1f-ac74-d00ac43002ef button.colab-df-convert');\n",
              "      buttonEl.style.display =\n",
              "        google.colab.kernel.accessAllowed ? 'block' : 'none';\n",
              "\n",
              "      async function convertToInteractive(key) {\n",
              "        const element = document.querySelector('#df-78152abe-491d-4b1f-ac74-d00ac43002ef');\n",
              "        const dataTable =\n",
              "          await google.colab.kernel.invokeFunction('convertToInteractive',\n",
              "                                                    [key], {});\n",
              "        if (!dataTable) return;\n",
              "\n",
              "        const docLinkHtml = 'Like what you see? Visit the ' +\n",
              "          '<a target=\"_blank\" href=https://colab.research.google.com/notebooks/data_table.ipynb>data table notebook</a>'\n",
              "          + ' to learn more about interactive tables.';\n",
              "        element.innerHTML = '';\n",
              "        dataTable['output_type'] = 'display_data';\n",
              "        await google.colab.output.renderOutput(dataTable, element);\n",
              "        const docLink = document.createElement('div');\n",
              "        docLink.innerHTML = docLinkHtml;\n",
              "        element.appendChild(docLink);\n",
              "      }\n",
              "    </script>\n",
              "  </div>\n",
              "\n",
              "\n",
              "<div id="\&quot;df-3dd3ce3c-e4a6-4d45-b195-0e98ac59629b\&quot;">\n",
              "  <button class="\&quot;colab-df-quickchart\&quot;" onclick="\&quot;quickchart('df-3dd3ce3c-e4a6-4d45-b195-0e98ac59629b')\&quot;\n&quot;," "="" title="\&quot;Suggest" charts\"\n",="" style="\&quot;display:none;\&quot;">\n",
              "\n",
              "<svg xmlns="\&quot;http://www.w3.org/2000/svg\&quot;" height="\&quot;24px\&quot;viewBox=\&quot;0" 0="" 24="" 24\"\n",="" "="" width="\&quot;24px\&quot;">\n",
              "    <g>\n",
              "        <path d="\&quot;M19" 3h5c-1.1="" 0-2="" .9-2="" 2v14c0="" 1.1.9="" 2="" 2h14c1.1="" 0="" 2-.9="" 2-2v5c0-1.1-.9-2-2-2zm9="" 17h7v-7h2v7zm4="" 0h-2v7h2v10zm4="" 0h-2v-4h2v4z\"=""></path>\n",
              "    </g>\n",
              "</svg>\n",
              "  </button>\n",
              "\n",
              "<style>\n",
              "  .colab-df-quickchart {\n",
              "      --bg-color: #E8F0FE;\n",
              "      --fill-color: #1967D2;\n",
              "      --hover-bg-color: #E2EBFA;\n",
              "      --hover-fill-color: #174EA6;\n",
              "      --disabled-fill-color: #AAA;\n",
              "      --disabled-bg-color: #DDD;\n",
              "  }\n",
              "\n",
              "  [theme=dark] .colab-df-quickchart {\n",
              "      --bg-color: #3B4455;\n",
              "      --fill-color: #D2E3FC;\n",
              "      --hover-bg-color: #434B5C;\n",
              "      --hover-fill-color: #FFFFFF;\n",
              "      --disabled-bg-color: #3B4455;\n",
              "      --disabled-fill-color: #666;\n",
              "  }\n",
              "\n",
              "  .colab-df-quickchart {\n",
              "    background-color: var(--bg-color);\n",
              "    border: none;\n",
              "    border-radius: 50%;\n",
              "    cursor: pointer;\n",
              "    display: none;\n",
              "    fill: var(--fill-color);\n",
              "    height: 32px;\n",
              "    padding: 0;\n",
              "    width: 32px;\n",
              "  }\n",
              "\n",
              "  .colab-df-quickchart:hover {\n",
              "    background-color: var(--hover-bg-color);\n",
              "    box-shadow: 0 1px 2px rgba(60, 64, 67, 0.3), 0 1px 3px 1px rgba(60, 64, 67, 0.15);\n",
              "    fill: var(--button-hover-fill-color);\n",
              "  }\n",
              "\n",
              "  .colab-df-quickchart-complete:disabled,\n",
              "  .colab-df-quickchart-complete:disabled:hover {\n",
              "    background-color: var(--disabled-bg-color);\n",
              "    fill: var(--disabled-fill-color);\n",
              "    box-shadow: none;\n",
              "  }\n",
              "\n",
              "  .colab-df-spinner {\n",
              "    border: 2px solid var(--fill-color);\n",
              "    border-color: transparent;\n",
              "    border-bottom-color: var(--fill-color);\n",
              "    animation:\n",
              "      spin 1s steps(1) infinite;\n",
              "  }\n",
              "\n",
              "  @keyframes spin {\n",
              "    0% {\n",
              "      border-color: transparent;\n",
              "      border-bottom-color: var(--fill-color);\n",
              "      border-left-color: var(--fill-color);\n",
              "    }\n",
              "    20% {\n",
              "      border-color: transparent;\n",
              "      border-left-color: var(--fill-color);\n",
              "      border-top-color: var(--fill-color);\n",
              "    }\n",
              "    30% {\n",
              "      border-color: transparent;\n",
              "      border-left-color: var(--fill-color);\n",
              "      border-top-color: var(--fill-color);\n",
              "      border-right-color: var(--fill-color);\n",
              "    }\n",
              "    40% {\n",
              "      border-color: transparent;\n",
              "      border-right-color: var(--fill-color);\n",
              "      border-top-color: var(--fill-color);\n",
              "    }\n",
              "    60% {\n",
              "      border-color: transparent;\n",
              "      border-right-color: var(--fill-color);\n",
              "    }\n",
              "    80% {\n",
              "      border-color: transparent;\n",
              "      border-right-color: var(--fill-color);\n",
              "      border-bottom-color: var(--fill-color);\n",
              "    }\n",
              "    90% {\n",
              "      border-color: transparent;\n",
              "      border-bottom-color: var(--fill-color);\n",
              "    }\n",
              "  }\n",
              "</style>\n",
              "\n",
              "  <script>\n",
              "    async function quickchart(key) {\n",
              "      const quickchartButtonEl =\n",
              "        document.querySelector('#' + key + ' button');\n",
              "      quickchartButtonEl.disabled = true;  // To prevent multiple clicks.\n",
              "      quickchartButtonEl.classList.add('colab-df-spinner');\n",
              "      try {\n",
              "        const charts = await google.colab.kernel.invokeFunction(\n",
              "            'suggestCharts', [key], {});\n",
              "      } catch (error) {\n",
              "        console.error('Error during call to suggestCharts:', error);\n",
              "      }\n",
              "      quickchartButtonEl.classList.remove('colab-df-spinner');\n",
              "      quickchartButtonEl.classList.add('colab-df-quickchart-complete');\n",
              "    }\n",
              "    (() => {\n",
              "      let quickchartButtonEl =\n",
              "        document.querySelector('#df-3dd3ce3c-e4a6-4d45-b195-0e98ac59629b button');\n",
              "      quickchartButtonEl.style.display =\n",
              "        google.colab.kernel.accessAllowed ? 'block' : 'none';\n",
              "    })();\n",
              "  </script>\n",
              "</div>\n",
              "\n",
              "    </div>\n",
              "  </div>\n"
            ],
            "application/vnd.google.colaboratory.intrinsic+json": {
              "type": "dataframe",
              "variable_name": "df_tokens"
            }
          },
          "metadata": {},
          "execution_count": 22
        }
      ]
    },
    {
      "cell_type": "code",
      "source": [
        "# Em seguida, adiciona-se uma série de dados com as contagens\n",
        "\n",
        "cont = df_tokens['palavra'].value_counts()\n",
        "df_cont = pd.DataFrame({'palavras': cont.index, 'ocorrências': cont.values})\n",
        "df_cont.head()"
      ],
      "metadata": {
        "id": "TSkdAt8hhj4I",
        "colab": {
          "base_uri": "https://localhost:8080/",
          "height": 206
        },
        "outputId": "ba82aca2-e54d-4e9c-8bc2-1b31476821f5"
      },
      "execution_count": null,
      "outputs": [
        {
          "output_type": "execute_result",
          "data": {
            "text/plain": [
              "  palavras  ocorrências\n",
              "0        a         4392\n",
              "1      que         4283\n",
              "2        o         3899\n",
              "3       de         3867\n",
              "4        e         3587"
            ],
            "text/html": [
              "\n",
              "  <div id="\&quot;df-38b8812d-e017-421c-a498-7e8e4aeaa629\&quot;" class="\&quot;colab-df-container\&quot;">\n",
              "    <div>\n",
              "<style scoped="">\n",
              "    .dataframe tbody tr th:only-of-type {\n",
              "        vertical-align: middle;\n",
              "    }\n",
              "\n",
              "    .dataframe tbody tr th {\n",
              "        vertical-align: top;\n",
              "    }\n",
              "\n",
              "    .dataframe thead th {\n",
              "        text-align: right;\n",
              "    }\n",
              "</style>\n",
              "\n",
              "  \n",
              "    \n",
              "      \n",
              "      \n",
              "      \n",
              "    \n",
              "  \n",
              "  \n",
              "    \n",
              "      \n",
              "      \n",
              "      \n",
              "    \n",
              "    \n",
              "      \n",
              "      \n",
              "      \n",
              "    \n",
              "    \n",
              "      \n",
              "      \n",
              "      \n",
              "    \n",
              "    \n",
              "      \n",
              "      \n",
              "      \n",
              "    \n",
              "    \n",
              "      \n",
              "      \n",
              "      \n",
              "    \n",
              "  \n",
              "<table border="\&quot;1\&quot;" class="\&quot;dataframe\&quot;"><thead><tr style="\&quot;text-align:" right;\"=""><th></th><th>palavras</th><th>ocorrências</th></tr></thead><tbody><tr><th>0</th><td>a</td><td>4392</td></tr><tr><th>1</th><td>que</td><td>4283</td></tr><tr><th>2</th><td>o</td><td>3899</td></tr><tr><th>3</th><td>de</td><td>3867</td></tr><tr><th>4</th><td>e</td><td>3587</td></tr></tbody></table>\n",
              "</div>\n",
              "    <div class="\&quot;colab-df-buttons\&quot;">\n",
              "\n",
              "  <div class="\&quot;colab-df-container\&quot;">\n",
              "    <button class="\&quot;colab-df-convert\&quot;" onclick="\&quot;convertToInteractive('df-38b8812d-e017-421c-a498-7e8e4aeaa629')\&quot;\n&quot;," "="" title="\&quot;Convert" this="" dataframe="" to="" an="" interactive="" table.\"\n",="" style="\&quot;display:none;\&quot;">\n",
              "\n",
              "  <svg xmlns="\&quot;http://www.w3.org/2000/svg\&quot;" height="\&quot;24px\&quot;" viewBox="\&quot;0" -960="" 960="" 960\"="">\n",
              "    <path d="\&quot;M120-120v-720h720v720H120Zm60-500h600v-160H180v160Zm220" 220h160v-160h400v160zm0="" 220h160v-160h400v160zm180-400h160v-160h180v160zm440="" 0h160v-160h620v160zm180-180h160v-160h180v160zm440="" 0h160v-160h620v160z\"=""></path>\n",
              "  </svg>\n",
              "    </button>\n",
              "\n",
              "  <style>\n",
              "    .colab-df-container {\n",
              "      display:flex;\n",
              "      gap: 12px;\n",
              "    }\n",
              "\n",
              "    .colab-df-convert {\n",
              "      background-color: #E8F0FE;\n",
              "      border: none;\n",
              "      border-radius: 50%;\n",
              "      cursor: pointer;\n",
              "      display: none;\n",
              "      fill: #1967D2;\n",
              "      height: 32px;\n",
              "      padding: 0 0 0 0;\n",
              "      width: 32px;\n",
              "    }\n",
              "\n",
              "    .colab-df-convert:hover {\n",
              "      background-color: #E2EBFA;\n",
              "      box-shadow: 0px 1px 2px rgba(60, 64, 67, 0.3), 0px 1px 3px 1px rgba(60, 64, 67, 0.15);\n",
              "      fill: #174EA6;\n",
              "    }\n",
              "\n",
              "    .colab-df-buttons div {\n",
              "      margin-bottom: 4px;\n",
              "    }\n",
              "\n",
              "    [theme=dark] .colab-df-convert {\n",
              "      background-color: #3B4455;\n",
              "      fill: #D2E3FC;\n",
              "    }\n",
              "\n",
              "    [theme=dark] .colab-df-convert:hover {\n",
              "      background-color: #434B5C;\n",
              "      box-shadow: 0px 1px 3px 1px rgba(0, 0, 0, 0.15);\n",
              "      filter: drop-shadow(0px 1px 2px rgba(0, 0, 0, 0.3));\n",
              "      fill: #FFFFFF;\n",
              "    }\n",
              "  </style>\n",
              "\n",
              "    <script>\n",
              "      const buttonEl =\n",
              "        document.querySelector('#df-38b8812d-e017-421c-a498-7e8e4aeaa629 button.colab-df-convert');\n",
              "      buttonEl.style.display =\n",
              "        google.colab.kernel.accessAllowed ? 'block' : 'none';\n",
              "\n",
              "      async function convertToInteractive(key) {\n",
              "        const element = document.querySelector('#df-38b8812d-e017-421c-a498-7e8e4aeaa629');\n",
              "        const dataTable =\n",
              "          await google.colab.kernel.invokeFunction('convertToInteractive',\n",
              "                                                    [key], {});\n",
              "        if (!dataTable) return;\n",
              "\n",
              "        const docLinkHtml = 'Like what you see? Visit the ' +\n",
              "          '<a target=\"_blank\" href=https://colab.research.google.com/notebooks/data_table.ipynb>data table notebook</a>'\n",
              "          + ' to learn more about interactive tables.';\n",
              "        element.innerHTML = '';\n",
              "        dataTable['output_type'] = 'display_data';\n",
              "        await google.colab.output.renderOutput(dataTable, element);\n",
              "        const docLink = document.createElement('div');\n",
              "        docLink.innerHTML = docLinkHtml;\n",
              "        element.appendChild(docLink);\n",
              "      }\n",
              "    </script>\n",
              "  </div>\n",
              "\n",
              "\n",
              "<div id="\&quot;df-0d416c27-ed7a-456d-8a94-9beba2991bef\&quot;">\n",
              "  <button class="\&quot;colab-df-quickchart\&quot;" onclick="\&quot;quickchart('df-0d416c27-ed7a-456d-8a94-9beba2991bef')\&quot;\n&quot;," "="" title="\&quot;Suggest" charts\"\n",="" style="\&quot;display:none;\&quot;">\n",
              "\n",
              "<svg xmlns="\&quot;http://www.w3.org/2000/svg\&quot;" height="\&quot;24px\&quot;viewBox=\&quot;0" 0="" 24="" 24\"\n",="" "="" width="\&quot;24px\&quot;">\n",
              "    <g>\n",
              "        <path d="\&quot;M19" 3h5c-1.1="" 0-2="" .9-2="" 2v14c0="" 1.1.9="" 2="" 2h14c1.1="" 0="" 2-.9="" 2-2v5c0-1.1-.9-2-2-2zm9="" 17h7v-7h2v7zm4="" 0h-2v7h2v10zm4="" 0h-2v-4h2v4z\"=""></path>\n",
              "    </g>\n",
              "</svg>\n",
              "  </button>\n",
              "\n",
              "<style>\n",
              "  .colab-df-quickchart {\n",
              "      --bg-color: #E8F0FE;\n",
              "      --fill-color: #1967D2;\n",
              "      --hover-bg-color: #E2EBFA;\n",
              "      --hover-fill-color: #174EA6;\n",
              "      --disabled-fill-color: #AAA;\n",
              "      --disabled-bg-color: #DDD;\n",
              "  }\n",
              "\n",
              "  [theme=dark] .colab-df-quickchart {\n",
              "      --bg-color: #3B4455;\n",
              "      --fill-color: #D2E3FC;\n",
              "      --hover-bg-color: #434B5C;\n",
              "      --hover-fill-color: #FFFFFF;\n",
              "      --disabled-bg-color: #3B4455;\n",
              "      --disabled-fill-color: #666;\n",
              "  }\n",
              "\n",
              "  .colab-df-quickchart {\n",
              "    background-color: var(--bg-color);\n",
              "    border: none;\n",
              "    border-radius: 50%;\n",
              "    cursor: pointer;\n",
              "    display: none;\n",
              "    fill: var(--fill-color);\n",
              "    height: 32px;\n",
              "    padding: 0;\n",
              "    width: 32px;\n",
              "  }\n",
              "\n",
              "  .colab-df-quickchart:hover {\n",
              "    background-color: var(--hover-bg-color);\n",
              "    box-shadow: 0 1px 2px rgba(60, 64, 67, 0.3), 0 1px 3px 1px rgba(60, 64, 67, 0.15);\n",
              "    fill: var(--button-hover-fill-color);\n",
              "  }\n",
              "\n",
              "  .colab-df-quickchart-complete:disabled,\n",
              "  .colab-df-quickchart-complete:disabled:hover {\n",
              "    background-color: var(--disabled-bg-color);\n",
              "    fill: var(--disabled-fill-color);\n",
              "    box-shadow: none;\n",
              "  }\n",
              "\n",
              "  .colab-df-spinner {\n",
              "    border: 2px solid var(--fill-color);\n",
              "    border-color: transparent;\n",
              "    border-bottom-color: var(--fill-color);\n",
              "    animation:\n",
              "      spin 1s steps(1) infinite;\n",
              "  }\n",
              "\n",
              "  @keyframes spin {\n",
              "    0% {\n",
              "      border-color: transparent;\n",
              "      border-bottom-color: var(--fill-color);\n",
              "      border-left-color: var(--fill-color);\n",
              "    }\n",
              "    20% {\n",
              "      border-color: transparent;\n",
              "      border-left-color: var(--fill-color);\n",
              "      border-top-color: var(--fill-color);\n",
              "    }\n",
              "    30% {\n",
              "      border-color: transparent;\n",
              "      border-left-color: var(--fill-color);\n",
              "      border-top-color: var(--fill-color);\n",
              "      border-right-color: var(--fill-color);\n",
              "    }\n",
              "    40% {\n",
              "      border-color: transparent;\n",
              "      border-right-color: var(--fill-color);\n",
              "      border-top-color: var(--fill-color);\n",
              "    }\n",
              "    60% {\n",
              "      border-color: transparent;\n",
              "      border-right-color: var(--fill-color);\n",
              "    }\n",
              "    80% {\n",
              "      border-color: transparent;\n",
              "      border-right-color: var(--fill-color);\n",
              "      border-bottom-color: var(--fill-color);\n",
              "    }\n",
              "    90% {\n",
              "      border-color: transparent;\n",
              "      border-bottom-color: var(--fill-color);\n",
              "    }\n",
              "  }\n",
              "</style>\n",
              "\n",
              "  <script>\n",
              "    async function quickchart(key) {\n",
              "      const quickchartButtonEl =\n",
              "        document.querySelector('#' + key + ' button');\n",
              "      quickchartButtonEl.disabled = true;  // To prevent multiple clicks.\n",
              "      quickchartButtonEl.classList.add('colab-df-spinner');\n",
              "      try {\n",
              "        const charts = await google.colab.kernel.invokeFunction(\n",
              "            'suggestCharts', [key], {});\n",
              "      } catch (error) {\n",
              "        console.error('Error during call to suggestCharts:', error);\n",
              "      }\n",
              "      quickchartButtonEl.classList.remove('colab-df-spinner');\n",
              "      quickchartButtonEl.classList.add('colab-df-quickchart-complete');\n",
              "    }\n",
              "    (() => {\n",
              "      let quickchartButtonEl =\n",
              "        document.querySelector('#df-0d416c27-ed7a-456d-8a94-9beba2991bef button');\n",
              "      quickchartButtonEl.style.display =\n",
              "        google.colab.kernel.accessAllowed ? 'block' : 'none';\n",
              "    })();\n",
              "  </script>\n",
              "</div>\n",
              "\n",
              "    </div>\n",
              "  </div>\n"
            ],
            "application/vnd.google.colaboratory.intrinsic+json": {
              "type": "dataframe",
              "variable_name": "df_cont",
              "summary": "{\n  \"name\": \"df_cont\",\n  \"rows\": 
10692,\n  \"fields\": [\n    {\n      \"column\": \"palavras\",\n      
\"properties\": {\n        \"dtype\": \"string\",\n        
\"num_unique_values\": 10692,\n        \"samples\": [\n          
\"caminhar\",\n          \"m\\u00e9rito\",\n          \"excitavam\"\n   
     ],\n        \"semantic_type\": \"\",\n        \"description\": 
\"\"\n      }\n    },\n    {\n      \"column\": \"ocorr\\u00eancias\",\n
      \"properties\": {\n        \"dtype\": \"number\",\n        
\"std\": 97,\n        \"min\": 1,\n        \"max\": 4392,\n        
\"num_unique_values\": 185,\n        \"samples\": [\n          655,\n   
       232,\n          29\n        ],\n        \"semantic_type\": 
\"\",\n        \"description\": \"\"\n      }\n    }\n  ]\n}"
            }
          },
          "metadata": {},
          "execution_count": 23
        }
      ]
    },
    {
      "cell_type": "code",
      "source": [
        "# Agora, é só consultar quais aquelas com uma única 
ocorrência\n",
        "# Com o mesmo procedimento, é possível excluir outros números 
pequenos\n",
        "# de ocorrência, até chegar a uma \"faixa de relevância\" 
(ocorrências &gt; 5, por ex.)\n",
        "\n",
        "df_cont.query('ocorrências == 1')"
      ],
      "metadata": {
        "colab": {
          "base_uri": "https://localhost:8080/",
          "height": 423
        },
        "id": "SWbCjzKEjndM",
        "outputId": "0d00448c-22b6-4740-f03a-fa303109e277"
      },
      "execution_count": null,
      "outputs": [
        {
          "output_type": "execute_result",
          "data": {
            "text/plain": [
              "             palavras  ocorrências\n",
              "5410         repeliam            1\n",
              "5411      blasfemavam            1\n",
              "5412   periodicamente            1\n",
              "5413         minerais            1\n",
              "5414             mole            1\n",
              "...               ...          ...\n",
              "10687          causei            1\n",
              "10688    involuntária            1\n",
              "10689    infelicidade            1\n",
              "10690         mostrei            1\n",
              "10691       purpúreas            1\n",
              "\n",
              "[5282 rows x 2 columns]"
            ],
            "text/html": [
              "\n",
              "  <div id="\&quot;df-9a9e9a42-c338-47c0-909e-2add4cff826f\&quot;" class="\&quot;colab-df-container\&quot;">\n",
              "    <div>\n",
              "<style scoped="">\n",
              "    .dataframe tbody tr th:only-of-type {\n",
              "        vertical-align: middle;\n",
              "    }\n",
              "\n",
              "    .dataframe tbody tr th {\n",
              "        vertical-align: top;\n",
              "    }\n",
              "\n",
              "    .dataframe thead th {\n",
              "        text-align: right;\n",
              "    }\n",
              "</style>\n",
              "\n",
              "  \n",
              "    \n",
              "      \n",
              "      \n",
              "      \n",
              "    \n",
              "  \n",
              "  \n",
              "    \n",
              "      \n",
              "      \n",
              "      \n",
              "    \n",
              "    \n",
              "      \n",
              "      \n",
              "      \n",
              "    \n",
              "    \n",
              "      \n",
              "      \n",
              "      \n",
              "    \n",
              "    \n",
              "      \n",
              "      \n",
              "      \n",
              "    \n",
              "    \n",
              "      \n",
              "      \n",
              "      \n",
              "    \n",
              "    \n",
              "      \n",
              "      \n",
              "      \n",
              "    \n",
              "    \n",
              "      \n",
              "      \n",
              "      \n",
              "    \n",
              "    \n",
              "      \n",
              "      \n",
              "      \n",
              "    \n",
              "    \n",
              "      \n",
              "      \n",
              "      \n",
              "    \n",
              "    \n",
              "      \n",
              "      \n",
              "      \n",
              "    \n",
              "    \n",
              "      \n",
              "      \n",
              "      \n",
              "    \n",
              "  \n",
              "<table border="\&quot;1\&quot;" class="\&quot;dataframe\&quot;"><thead><tr style="\&quot;text-align:" right;\"=""><th></th><th>palavras</th><th>ocorrências</th></tr></thead><tbody><tr><th>5410</th><td>repeliam</td><td>1</td></tr><tr><th>5411</th><td>blasfemavam</td><td>1</td></tr><tr><th>5412</th><td>periodicamente</td><td>1</td></tr><tr><th>5413</th><td>minerais</td><td>1</td></tr><tr><th>5414</th><td>mole</td><td>1</td></tr><tr><th>...</th><td>...</td><td>...</td></tr><tr><th>10687</th><td>causei</td><td>1</td></tr><tr><th>10688</th><td>involuntária</td><td>1</td></tr><tr><th>10689</th><td>infelicidade</td><td>1</td></tr><tr><th>10690</th><td>mostrei</td><td>1</td></tr><tr><th>10691</th><td>purpúreas</td><td>1</td></tr></tbody></table>\n",
              "<p>5282 rows × 2 columns</p>\n",
              "</div>\n",
              "    <div class="\&quot;colab-df-buttons\&quot;">\n",
              "\n",
              "  <div class="\&quot;colab-df-container\&quot;">\n",
              "    <button class="\&quot;colab-df-convert\&quot;" onclick="\&quot;convertToInteractive('df-9a9e9a42-c338-47c0-909e-2add4cff826f')\&quot;\n&quot;," "="" title="\&quot;Convert" this="" dataframe="" to="" an="" interactive="" table.\"\n",="" style="\&quot;display:none;\&quot;">\n",
              "\n",
              "  <svg xmlns="\&quot;http://www.w3.org/2000/svg\&quot;" height="\&quot;24px\&quot;" viewBox="\&quot;0" -960="" 960="" 960\"="">\n",
              "    <path d="\&quot;M120-120v-720h720v720H120Zm60-500h600v-160H180v160Zm220" 220h160v-160h400v160zm0="" 220h160v-160h400v160zm180-400h160v-160h180v160zm440="" 0h160v-160h620v160zm180-180h160v-160h180v160zm440="" 0h160v-160h620v160z\"=""></path>\n",
              "  </svg>\n",
              "    </button>\n",
              "\n",
              "  <style>\n",
              "    .colab-df-container {\n",
              "      display:flex;\n",
              "      gap: 12px;\n",
              "    }\n",
              "\n",
              "    .colab-df-convert {\n",
              "      background-color: #E8F0FE;\n",
              "      border: none;\n",
              "      border-radius: 50%;\n",
              "      cursor: pointer;\n",
              "      display: none;\n",
              "      fill: #1967D2;\n",
              "      height: 32px;\n",
              "      padding: 0 0 0 0;\n",
              "      width: 32px;\n",
              "    }\n",
              "\n",
              "    .colab-df-convert:hover {\n",
              "      background-color: #E2EBFA;\n",
              "      box-shadow: 0px 1px 2px rgba(60, 64, 67, 0.3), 0px 1px 3px 1px rgba(60, 64, 67, 0.15);\n",
              "      fill: #174EA6;\n",
              "    }\n",
              "\n",
              "    .colab-df-buttons div {\n",
              "      margin-bottom: 4px;\n",
              "    }\n",
              "\n",
              "    [theme=dark] .colab-df-convert {\n",
              "      background-color: #3B4455;\n",
              "      fill: #D2E3FC;\n",
              "    }\n",
              "\n",
              "    [theme=dark] .colab-df-convert:hover {\n",
              "      background-color: #434B5C;\n",
              "      box-shadow: 0px 1px 3px 1px rgba(0, 0, 0, 0.15);\n",
              "      filter: drop-shadow(0px 1px 2px rgba(0, 0, 0, 0.3));\n",
              "      fill: #FFFFFF;\n",
              "    }\n",
              "  </style>\n",
              "\n",
              "    <script>\n",
              "      const buttonEl =\n",
              "        document.querySelector('#df-9a9e9a42-c338-47c0-909e-2add4cff826f button.colab-df-convert');\n",
              "      buttonEl.style.display =\n",
              "        google.colab.kernel.accessAllowed ? 'block' : 'none';\n",
              "\n",
              "      async function convertToInteractive(key) {\n",
              "        const element = document.querySelector('#df-9a9e9a42-c338-47c0-909e-2add4cff826f');\n",
              "        const dataTable =\n",
              "          await google.colab.kernel.invokeFunction('convertToInteractive',\n",
              "                                                    [key], {});\n",
              "        if (!dataTable) return;\n",
              "\n",
              "        const docLinkHtml = 'Like what you see? Visit the ' +\n",
              "          '<a target=\"_blank\" href=https://colab.research.google.com/notebooks/data_table.ipynb>data table notebook</a>'\n",
              "          + ' to learn more about interactive tables.';\n",
              "        element.innerHTML = '';\n",
              "        dataTable['output_type'] = 'display_data';\n",
              "        await google.colab.output.renderOutput(dataTable, element);\n",
              "        const docLink = document.createElement('div');\n",
              "        docLink.innerHTML = docLinkHtml;\n",
              "        element.appendChild(docLink);\n",
              "      }\n",
              "    </script>\n",
              "  </div>\n",
              "\n",
              "\n",
              "<div id="\&quot;df-99b4fd79-6b3c-4b4f-b94a-f4625335fc04\&quot;">\n",
              "  <button class="\&quot;colab-df-quickchart\&quot;" onclick="\&quot;quickchart('df-99b4fd79-6b3c-4b4f-b94a-f4625335fc04')\&quot;\n&quot;," "="" title="\&quot;Suggest" charts\"\n",="" style="\&quot;display:none;\&quot;">\n",
              "\n",
              "<svg xmlns="\&quot;http://www.w3.org/2000/svg\&quot;" height="\&quot;24px\&quot;viewBox=\&quot;0" 0="" 24="" 24\"\n",="" "="" width="\&quot;24px\&quot;">\n",
              "    <g>\n",
              "        <path d="\&quot;M19" 3h5c-1.1="" 0-2="" .9-2="" 2v14c0="" 1.1.9="" 2="" 2h14c1.1="" 0="" 2-.9="" 2-2v5c0-1.1-.9-2-2-2zm9="" 17h7v-7h2v7zm4="" 0h-2v7h2v10zm4="" 0h-2v-4h2v4z\"=""></path>\n",
              "    </g>\n",
              "</svg>\n",
              "  </button>\n",
              "\n",
              "<style>\n",
              "  .colab-df-quickchart {\n",
              "      --bg-color: #E8F0FE;\n",
              "      --fill-color: #1967D2;\n",
              "      --hover-bg-color: #E2EBFA;\n",
              "      --hover-fill-color: #174EA6;\n",
              "      --disabled-fill-color: #AAA;\n",
              "      --disabled-bg-color: #DDD;\n",
              "  }\n",
              "\n",
              "  [theme=dark] .colab-df-quickchart {\n",
              "      --bg-color: #3B4455;\n",
              "      --fill-color: #D2E3FC;\n",
              "      --hover-bg-color: #434B5C;\n",
              "      --hover-fill-color: #FFFFFF;\n",
              "      --disabled-bg-color: #3B4455;\n",
              "      --disabled-fill-color: #666;\n",
              "  }\n",
              "\n",
              "  .colab-df-quickchart {\n",
              "    background-color: var(--bg-color);\n",
              "    border: none;\n",
              "    border-radius: 50%;\n",
              "    cursor: pointer;\n",
              "    display: none;\n",
              "    fill: var(--fill-color);\n",
              "    height: 32px;\n",
              "    padding: 0;\n",
              "    width: 32px;\n",
              "  }\n",
              "\n",
              "  .colab-df-quickchart:hover {\n",
              "    background-color: var(--hover-bg-color);\n",
              "    box-shadow: 0 1px 2px rgba(60, 64, 67, 0.3), 0 1px 3px 1px rgba(60, 64, 67, 0.15);\n",
              "    fill: var(--button-hover-fill-color);\n",
              "  }\n",
              "\n",
              "  .colab-df-quickchart-complete:disabled,\n",
              "  .colab-df-quickchart-complete:disabled:hover {\n",
              "    background-color: var(--disabled-bg-color);\n",
              "    fill: var(--disabled-fill-color);\n",
              "    box-shadow: none;\n",
              "  }\n",
              "\n",
              "  .colab-df-spinner {\n",
              "    border: 2px solid var(--fill-color);\n",
              "    border-color: transparent;\n",
              "    border-bottom-color: var(--fill-color);\n",
              "    animation:\n",
              "      spin 1s steps(1) infinite;\n",
              "  }\n",
              "\n",
              "  @keyframes spin {\n",
              "    0% {\n",
              "      border-color: transparent;\n",
              "      border-bottom-color: var(--fill-color);\n",
              "      border-left-color: var(--fill-color);\n",
              "    }\n",
              "    20% {\n",
              "      border-color: transparent;\n",
              "      border-left-color: var(--fill-color);\n",
              "      border-top-color: var(--fill-color);\n",
              "    }\n",
              "    30% {\n",
              "      border-color: transparent;\n",
              "      border-left-color: var(--fill-color);\n",
              "      border-top-color: var(--fill-color);\n",
              "      border-right-color: var(--fill-color);\n",
              "    }\n",
              "    40% {\n",
              "      border-color: transparent;\n",
              "      border-right-color: var(--fill-color);\n",
              "      border-top-color: var(--fill-color);\n",
              "    }\n",
              "    60% {\n",
              "      border-color: transparent;\n",
              "      border-right-color: var(--fill-color);\n",
              "    }\n",
              "    80% {\n",
              "      border-color: transparent;\n",
              "      border-right-color: var(--fill-color);\n",
              "      border-bottom-color: var(--fill-color);\n",
              "    }\n",
              "    90% {\n",
              "      border-color: transparent;\n",
              "      border-bottom-color: var(--fill-color);\n",
              "    }\n",
              "  }\n",
              "</style>\n",
              "\n",
              "  <script>\n",
              "    async function quickchart(key) {\n",
              "      const quickchartButtonEl =\n",
              "        document.querySelector('#' + key + ' button');\n",
              "      quickchartButtonEl.disabled = true;  // To prevent multiple clicks.\n",
              "      quickchartButtonEl.classList.add('colab-df-spinner');\n",
              "      try {\n",
              "        const charts = await google.colab.kernel.invokeFunction(\n",
              "            'suggestCharts', [key], {});\n",
              "      } catch (error) {\n",
              "        console.error('Error during call to suggestCharts:', error);\n",
              "      }\n",
              "      quickchartButtonEl.classList.remove('colab-df-spinner');\n",
              "      quickchartButtonEl.classList.add('colab-df-quickchart-complete');\n",
              "    }\n",
              "    (() => {\n",
              "      let quickchartButtonEl =\n",
              "        document.querySelector('#df-99b4fd79-6b3c-4b4f-b94a-f4625335fc04 button');\n",
              "      quickchartButtonEl.style.display =\n",
              "        google.colab.kernel.accessAllowed ? 'block' : 'none';\n",
              "    })();\n",
              "  </script>\n",
              "</div>\n",
              "\n",
              "    </div>\n",
              "  </div>\n"
            ],
            "application/vnd.google.colaboratory.intrinsic+json": {
              "type": "dataframe",
              "summary": "{\n  \"name\": \"df_cont\",\n  \"rows\": 
5282,\n  \"fields\": [\n    {\n      \"column\": \"palavras\",\n      
\"properties\": {\n        \"dtype\": \"string\",\n        
\"num_unique_values\": 5282,\n        \"samples\": [\n          
\"sufocou\",\n          \"m\\u00ednimo\",\n          \"esquisitas\"\n   
     ],\n        \"semantic_type\": \"\",\n        \"description\": 
\"\"\n      }\n    },\n    {\n      \"column\": \"ocorr\\u00eancias\",\n
      \"properties\": {\n        \"dtype\": \"number\",\n        
\"std\": 0,\n        \"min\": 1,\n        \"max\": 1,\n        
\"num_unique_values\": 1,\n        \"samples\": [\n          1\n        
],\n        \"semantic_type\": \"\",\n        \"description\": \"\"\n   
   }\n    }\n  ]\n}"
            }
          },
          "metadata": {},
          "execution_count": 24
        }
      ]
    },
    {
      "cell_type": "code",
      "metadata": {
        "colab": {
          "base_uri": "https://localhost:8080/"
        },
        "id": "dMzJnmZsNQZl",
        "outputId": "62e60c81-a1b7-4424-9f30-15afc968f1b3"
      },
      "source": [
        "# Para a Pontuação Média, usaremos o módulo scipy\n",
        "from scipy import stats as st\n",
        "\n",
        "print(st.zscore(df.tamanho))"
      ],
      "execution_count": null,
      "outputs": [
        {
          "output_type": "stream",
          "name": "stdout",
          "text": [
            "0        1.979129\n",
            "1        1.085323\n",
            "2        0.191518\n",
            "3        0.638420\n",
            "4       -2.042996\n",
            "           ...   \n",
            "10687    1.979129\n",
            "10688   -0.702288\n",
            "10689   -1.149190\n",
            "10690    1.085323\n",
            "10691   -0.702288\n",
            "Name: tamanho, Length: 10692, dtype: float64\n"
          ]
        }
      ]
    },
    {
      "cell_type": "code",
      "metadata": {
        "colab": {
          "base_uri": "https://localhost:8080/",
          "height": 423
        },
        "id": "mV0IIGDXNQZn",
        "outputId": "d73d7aab-d4d4-4452-f986-ac63783e44ad"
      },
      "source": [
        "# Cálculo da pontuação média (z-score) dos tamanhos\n",
        "\n",
        "df['z'] = st.zscore(df['tamanho'])\n",
        "df"
      ],
      "execution_count": null,
      "outputs": [
        {
          "output_type": "execute_result",
          "data": {
            "text/plain": [
              "            palavra  tamanho         z\n",
              "0      subterrâneas       12  1.979129\n",
              "1        fascinavam       10  1.085323\n",
              "2          comovida        8  0.191518\n",
              "3         repreendi        9  0.638420\n",
              "4               tas        3 -2.042996\n",
              "...             ...      ...       ...\n",
              "10687  interrompais       12  1.979129\n",
              "10688        esmola        6 -0.702288\n",
              "10689         algum        5 -1.149190\n",
              "10690    pestanejar       10  1.085323\n",
              "10691        bonita        6 -0.702288\n",
              "\n",
              "[10692 rows x 3 columns]"
            ],
            "text/html": [
              "\n",
              "  <div id="\&quot;df-0bfca793-3dcc-4831-88b5-a42583ffadb9\&quot;" class="\&quot;colab-df-container\&quot;">\n",
              "    <div>\n",
              "<style scoped="">\n",
              "    .dataframe tbody tr th:only-of-type {\n",
              "        vertical-align: middle;\n",
              "    }\n",
              "\n",
              "    .dataframe tbody tr th {\n",
              "        vertical-align: top;\n",
              "    }\n",
              "\n",
              "    .dataframe thead th {\n",
              "        text-align: right;\n",
              "    }\n",
              "</style>\n",
              "\n",
              "  \n",
              "    \n",
              "      \n",
              "      \n",
              "      \n",
              "      \n",
              "    \n",
              "  \n",
              "  \n",
              "    \n",
              "      \n",
              "      \n",
              "      \n",
              "      \n",
              "    \n",
              "    \n",
              "      \n",
              "      \n",
              "      \n",
              "      \n",
              "    \n",
              "    \n",
              "      \n",
              "      \n",
              "      \n",
              "      \n",
              "    \n",
              "    \n",
              "      \n",
              "      \n",
              "      \n",
              "      \n",
              "    \n",
              "    \n",
              "      \n",
              "      \n",
              "      \n",
              "      \n",
              "    \n",
              "    \n",
              "      \n",
              "      \n",
              "      \n",
              "      \n",
              "    \n",
              "    \n",
              "      \n",
              "      \n",
              "      \n",
              "      \n",
              "    \n",
              "    \n",
              "      \n",
              "      \n",
              "      \n",
              "      \n",
              "    \n",
              "    \n",
              "      \n",
              "      \n",
              "      \n",
              "      \n",
              "    \n",
              "    \n",
              "      \n",
              "      \n",
              "      \n",
              "      \n",
              "    \n",
              "    \n",
              "      \n",
              "      \n",
              "      \n",
              "      \n",
              "    \n",
              "  \n",
              "<table border="\&quot;1\&quot;" class="\&quot;dataframe\&quot;"><thead><tr style="\&quot;text-align:" right;\"=""><th></th><th>palavra</th><th>tamanho</th><th>z</th></tr></thead><tbody><tr><th>0</th><td>subterrâneas</td><td>12</td><td>1.979129</td></tr><tr><th>1</th><td>fascinavam</td><td>10</td><td>1.085323</td></tr><tr><th>2</th><td>comovida</td><td>8</td><td>0.191518</td></tr><tr><th>3</th><td>repreendi</td><td>9</td><td>0.638420</td></tr><tr><th>4</th><td>tas</td><td>3</td><td>-2.042996</td></tr><tr><th>...</th><td>...</td><td>...</td><td>...</td></tr><tr><th>10687</th><td>interrompais</td><td>12</td><td>1.979129</td></tr><tr><th>10688</th><td>esmola</td><td>6</td><td>-0.702288</td></tr><tr><th>10689</th><td>algum</td><td>5</td><td>-1.149190</td></tr><tr><th>10690</th><td>pestanejar</td><td>10</td><td>1.085323</td></tr><tr><th>10691</th><td>bonita</td><td>6</td><td>-0.702288</td></tr></tbody></table>\n",
              "<p>10692 rows × 3 columns</p>\n",
              "</div>\n",
              "    <div class="\&quot;colab-df-buttons\&quot;">\n",
              "\n",
              "  <div class="\&quot;colab-df-container\&quot;">\n",
              "    <button class="\&quot;colab-df-convert\&quot;" onclick="\&quot;convertToInteractive('df-0bfca793-3dcc-4831-88b5-a42583ffadb9')\&quot;\n&quot;," "="" title="\&quot;Convert" this="" dataframe="" to="" an="" interactive="" table.\"\n",="" style="\&quot;display:none;\&quot;">\n",
              "\n",
              "  <svg xmlns="\&quot;http://www.w3.org/2000/svg\&quot;" height="\&quot;24px\&quot;" viewBox="\&quot;0" -960="" 960="" 960\"="">\n",
              "    <path d="\&quot;M120-120v-720h720v720H120Zm60-500h600v-160H180v160Zm220" 220h160v-160h400v160zm0="" 220h160v-160h400v160zm180-400h160v-160h180v160zm440="" 0h160v-160h620v160zm180-180h160v-160h180v160zm440="" 0h160v-160h620v160z\"=""></path>\n",
              "  </svg>\n",
              "    </button>\n",
              "\n",
              "  <style>\n",
              "    .colab-df-container {\n",
              "      display:flex;\n",
              "      gap: 12px;\n",
              "    }\n",
              "\n",
              "    .colab-df-convert {\n",
              "      background-color: #E8F0FE;\n",
              "      border: none;\n",
              "      border-radius: 50%;\n",
              "      cursor: pointer;\n",
              "      display: none;\n",
              "      fill: #1967D2;\n",
              "      height: 32px;\n",
              "      padding: 0 0 0 0;\n",
              "      width: 32px;\n",
              "    }\n",
              "\n",
              "    .colab-df-convert:hover {\n",
              "      background-color: #E2EBFA;\n",
              "      box-shadow: 0px 1px 2px rgba(60, 64, 67, 0.3), 0px 1px 3px 1px rgba(60, 64, 67, 0.15);\n",
              "      fill: #174EA6;\n",
              "    }\n",
              "\n",
              "    .colab-df-buttons div {\n",
              "      margin-bottom: 4px;\n",
              "    }\n",
              "\n",
              "    [theme=dark] .colab-df-convert {\n",
              "      background-color: #3B4455;\n",
              "      fill: #D2E3FC;\n",
              "    }\n",
              "\n",
              "    [theme=dark] .colab-df-convert:hover {\n",
              "      background-color: #434B5C;\n",
              "      box-shadow: 0px 1px 3px 1px rgba(0, 0, 0, 0.15);\n",
              "      filter: drop-shadow(0px 1px 2px rgba(0, 0, 0, 0.3));\n",
              "      fill: #FFFFFF;\n",
              "    }\n",
              "  </style>\n",
              "\n",
              "    <script>\n",
              "      const buttonEl =\n",
              "        document.querySelector('#df-0bfca793-3dcc-4831-88b5-a42583ffadb9 button.colab-df-convert');\n",
              "      buttonEl.style.display =\n",
              "        google.colab.kernel.accessAllowed ? 'block' : 'none';\n",
              "\n",
              "      async function convertToInteractive(key) {\n",
              "        const element = document.querySelector('#df-0bfca793-3dcc-4831-88b5-a42583ffadb9');\n",
              "        const dataTable =\n",
              "          await google.colab.kernel.invokeFunction('convertToInteractive',\n",
              "                                                    [key], {});\n",
              "        if (!dataTable) return;\n",
              "\n",
              "        const docLinkHtml = 'Like what you see? Visit the ' +\n",
              "          '<a target=\"_blank\" href=https://colab.research.google.com/notebooks/data_table.ipynb>data table notebook</a>'\n",
              "          + ' to learn more about interactive tables.';\n",
              "        element.innerHTML = '';\n",
              "        dataTable['output_type'] = 'display_data';\n",
              "        await google.colab.output.renderOutput(dataTable, element);\n",
              "        const docLink = document.createElement('div');\n",
              "        docLink.innerHTML = docLinkHtml;\n",
              "        element.appendChild(docLink);\n",
              "      }\n",
              "    </script>\n",
              "  </div>\n",
              "\n",
              "\n",
              "<div id="\&quot;df-a5de500b-e02c-4bc0-ae53-a11fcdea36d7\&quot;">\n",
              "  <button class="\&quot;colab-df-quickchart\&quot;" onclick="\&quot;quickchart('df-a5de500b-e02c-4bc0-ae53-a11fcdea36d7')\&quot;\n&quot;," "="" title="\&quot;Suggest" charts\"\n",="" style="\&quot;display:none;\&quot;">\n",
              "\n",
              "<svg xmlns="\&quot;http://www.w3.org/2000/svg\&quot;" height="\&quot;24px\&quot;viewBox=\&quot;0" 0="" 24="" 24\"\n",="" "="" width="\&quot;24px\&quot;">\n",
              "    <g>\n",
              "        <path d="\&quot;M19" 3h5c-1.1="" 0-2="" .9-2="" 2v14c0="" 1.1.9="" 2="" 2h14c1.1="" 0="" 2-.9="" 2-2v5c0-1.1-.9-2-2-2zm9="" 17h7v-7h2v7zm4="" 0h-2v7h2v10zm4="" 0h-2v-4h2v4z\"=""></path>\n",
              "    </g>\n",
              "</svg>\n",
              "  </button>\n",
              "\n",
              "<style>\n",
              "  .colab-df-quickchart {\n",
              "      --bg-color: #E8F0FE;\n",
              "      --fill-color: #1967D2;\n",
              "      --hover-bg-color: #E2EBFA;\n",
              "      --hover-fill-color: #174EA6;\n",
              "      --disabled-fill-color: #AAA;\n",
              "      --disabled-bg-color: #DDD;\n",
              "  }\n",
              "\n",
              "  [theme=dark] .colab-df-quickchart {\n",
              "      --bg-color: #3B4455;\n",
              "      --fill-color: #D2E3FC;\n",
              "      --hover-bg-color: #434B5C;\n",
              "      --hover-fill-color: #FFFFFF;\n",
              "      --disabled-bg-color: #3B4455;\n",
              "      --disabled-fill-color: #666;\n",
              "  }\n",
              "\n",
              "  .colab-df-quickchart {\n",
              "    background-color: var(--bg-color);\n",
              "    border: none;\n",
              "    border-radius: 50%;\n",
              "    cursor: pointer;\n",
              "    display: none;\n",
              "    fill: var(--fill-color);\n",
              "    height: 32px;\n",
              "    padding: 0;\n",
              "    width: 32px;\n",
              "  }\n",
              "\n",
              "  .colab-df-quickchart:hover {\n",
              "    background-color: var(--hover-bg-color);\n",
              "    box-shadow: 0 1px 2px rgba(60, 64, 67, 0.3), 0 1px 3px 1px rgba(60, 64, 67, 0.15);\n",
              "    fill: var(--button-hover-fill-color);\n",
              "  }\n",
              "\n",
              "  .colab-df-quickchart-complete:disabled,\n",
              "  .colab-df-quickchart-complete:disabled:hover {\n",
              "    background-color: var(--disabled-bg-color);\n",
              "    fill: var(--disabled-fill-color);\n",
              "    box-shadow: none;\n",
              "  }\n",
              "\n",
              "  .colab-df-spinner {\n",
              "    border: 2px solid var(--fill-color);\n",
              "    border-color: transparent;\n",
              "    border-bottom-color: var(--fill-color);\n",
              "    animation:\n",
              "      spin 1s steps(1) infinite;\n",
              "  }\n",
              "\n",
              "  @keyframes spin {\n",
              "    0% {\n",
              "      border-color: transparent;\n",
              "      border-bottom-color: var(--fill-color);\n",
              "      border-left-color: var(--fill-color);\n",
              "    }\n",
              "    20% {\n",
              "      border-color: transparent;\n",
              "      border-left-color: var(--fill-color);\n",
              "      border-top-color: var(--fill-color);\n",
              "    }\n",
              "    30% {\n",
              "      border-color: transparent;\n",
              "      border-left-color: var(--fill-color);\n",
              "      border-top-color: var(--fill-color);\n",
              "      border-right-color: var(--fill-color);\n",
              "    }\n",
              "    40% {\n",
              "      border-color: transparent;\n",
              "      border-right-color: var(--fill-color);\n",
              "      border-top-color: var(--fill-color);\n",
              "    }\n",
              "    60% {\n",
              "      border-color: transparent;\n",
              "      border-right-color: var(--fill-color);\n",
              "    }\n",
              "    80% {\n",
              "      border-color: transparent;\n",
              "      border-right-color: var(--fill-color);\n",
              "      border-bottom-color: var(--fill-color);\n",
              "    }\n",
              "    90% {\n",
              "      border-color: transparent;\n",
              "      border-bottom-color: var(--fill-color);\n",
              "    }\n",
              "  }\n",
              "</style>\n",
              "\n",
              "  <script>\n",
              "    async function quickchart(key) {\n",
              "      const quickchartButtonEl =\n",
              "        document.querySelector('#' + key + ' button');\n",
              "      quickchartButtonEl.disabled = true;  // To prevent multiple clicks.\n",
              "      quickchartButtonEl.classList.add('colab-df-spinner');\n",
              "      try {\n",
              "        const charts = await google.colab.kernel.invokeFunction(\n",
              "            'suggestCharts', [key], {});\n",
              "      } catch (error) {\n",
              "        console.error('Error during call to suggestCharts:', error);\n",
              "      }\n",
              "      quickchartButtonEl.classList.remove('colab-df-spinner');\n",
              "      quickchartButtonEl.classList.add('colab-df-quickchart-complete');\n",
              "    }\n",
              "    (() => {\n",
              "      let quickchartButtonEl =\n",
              "        document.querySelector('#df-a5de500b-e02c-4bc0-ae53-a11fcdea36d7 button');\n",
              "      quickchartButtonEl.style.display =\n",
              "        google.colab.kernel.accessAllowed ? 'block' : 'none';\n",
              "    })();\n",
              "  </script>\n",
              "</div>\n",
              "\n",
              "  <div id="\&quot;id_17452fcc-4492-41e9-b5e7-9df7f35f1e96\&quot;">\n",
              "    <style>\n",
              "      .colab-df-generate {\n",
              "        background-color: #E8F0FE;\n",
              "        border: none;\n",
              "        border-radius: 50%;\n",
              "        cursor: pointer;\n",
              "        display: none;\n",
              "        fill: #1967D2;\n",
              "        height: 32px;\n",
              "        padding: 0 0 0 0;\n",
              "        width: 32px;\n",
              "      }\n",
              "\n",
              "      .colab-df-generate:hover {\n",
              "        background-color: #E2EBFA;\n",
              "        box-shadow: 0px 1px 2px rgba(60, 64, 67, 0.3), 0px 1px 3px 1px rgba(60, 64, 67, 0.15);\n",
              "        fill: #174EA6;\n",
              "      }\n",
              "\n",
              "      [theme=dark] .colab-df-generate {\n",
              "        background-color: #3B4455;\n",
              "        fill: #D2E3FC;\n",
              "      }\n",
              "\n",
              "      [theme=dark] .colab-df-generate:hover {\n",
              "        background-color: #434B5C;\n",
              "        box-shadow: 0px 1px 3px 1px rgba(0, 0, 0, 0.15);\n",
              "        filter: drop-shadow(0px 1px 2px rgba(0, 0, 0, 0.3));\n",
              "        fill: #FFFFFF;\n",
              "      }\n",
              "    </style>\n",
              "    <button class="\&quot;colab-df-generate\&quot;" onclick="\&quot;generateWithVariable('df')\&quot;\n&quot;," "="" title="\&quot;Generate" code="" using="" this="" dataframe.\"\n",="" style="\&quot;display:none;\&quot;">\n",
              "\n",
              "  <svg xmlns="\&quot;http://www.w3.org/2000/svg\&quot;" height="\&quot;24px\&quot;viewBox=\&quot;0" 0="" 24="" 24\"\n",="" "="" width="\&quot;24px\&quot;">\n",
              "    <path d="\&quot;M7,19H8.4L18.45,9,17,7.55,7,17.6ZM5,21V16.75L18.45,3.32a2,2,0,0,1,2.83,0l1.4,1.43a1.91,1.91,0,0,1,.58,1.4,1.91,1.91,0,0,1-.58,1.4L9.25,21ZM18.45,9,17,7.55Zm-12,3A5.31,5.31,0,0,0,4.9,8.1,5.31,5.31,0,0,0,1,6.5,5.31,5.31,0,0,0,4.9,4.9,5.31,5.31,0,0,0,6.5,1,5.31,5.31,0,0,0,8.1,4.9,5.31,5.31,0,0,0,12,6.5,5.46,5.46,0,0,0,6.5,12Z\&quot;/">\n",
              "  </path></svg>\n",
              "    </button>\n",
              "    <script>\n",
              "      (() => {\n",
              "      const buttonEl =\n",
              "        document.querySelector('#id_17452fcc-4492-41e9-b5e7-9df7f35f1e96 button.colab-df-generate');\n",
              "      buttonEl.style.display =\n",
              "        google.colab.kernel.accessAllowed ? 'block' : 'none';\n",
              "\n",
              "      buttonEl.onclick = () => {\n",
              "        google.colab.notebook.generateWithVariable('df');\n",
              "      }\n",
              "      })();\n",
              "    </script>\n",
              "  </div>\n",
              "\n",
              "    </div>\n",
              "  </div>\n"
            ],
            "application/vnd.google.colaboratory.intrinsic+json": {
              "type": "dataframe",
              "variable_name": "df",
              "summary": "{\n  \"name\": \"df\",\n  \"rows\": 10692,\n  
\"fields\": [\n    {\n      \"column\": \"palavra\",\n      
\"properties\": {\n        \"dtype\": \"string\",\n        
\"num_unique_values\": 10692,\n        \"samples\": [\n          
\"acudido\",\n          \"aimar\\u00e1\",\n          \"falara\"\n       
 ],\n        \"semantic_type\": \"\",\n        \"description\": \"\"\n  
    }\n    },\n    {\n      \"column\": \"tamanho\",\n      
\"properties\": {\n        \"dtype\": \"number\",\n        \"std\": 2,\n
        \"min\": 1,\n        \"max\": 18,\n        
\"num_unique_values\": 18,\n        \"samples\": [\n          12,\n     
     10,\n          5\n        ],\n        \"semantic_type\": \"\",\n   
     \"description\": \"\"\n      }\n    },\n    {\n      \"column\": 
\"z\",\n      \"properties\": {\n        \"dtype\": \"number\",\n       
 \"std\": 1.0000467672162596,\n        \"min\": -2.9368010709265358,\n  
      \"max\": 4.660544718488665,\n        \"num_unique_values\": 18,\n 
       \"samples\": [\n          1.9791285575185944,\n          
1.0853231705285709,\n          -1.1491902969464884\n        ],\n        
\"semantic_type\": \"\",\n        \"description\": \"\"\n      }\n    
}\n  ]\n}"
            }
          },
          "metadata": {},
          "execution_count": 26
        }
      ]
    },
    {
      "cell_type": "code",
      "metadata": {
        "colab": {
          "base_uri": "https://localhost:8080/"
        },
        "id": "MBMqeyLRNQZo",
        "outputId": "9d9e193d-bed3-4d83-d727-0e6042781fdc"
      },
      "source": [
        "# Quais a porcentagem de palavras grandes (z &gt; 3) no 
corpus?\n",
        "\n",
        "palavronas = df.query('z &gt; 3')\n",
        "print(f'{len(palavronas) / len(df):.2%}')"
      ],
      "execution_count": null,
      "outputs": [
        {
          "output_type": "stream",
          "name": "stdout",
          "text": [
            "0.34%\n"
          ]
        }
      ]
    },
    {
      "cell_type": "code",
      "metadata": {
        "colab": {
          "base_uri": "https://localhost:8080/"
        },
        "id": "XNtSoqmkP2nC",
        "outputId": "01b3e0c6-9714-45c8-e01f-72c11ccd6ccc"
      },
      "source": [
        "# z &gt; 4 é o final da curva, mesmo. Pouquíssimas 
palavras.\n",
        "\n",
        "print(df.query('z &gt; 4'))"
      ],
      "execution_count": null,
      "outputs": [
        {
          "output_type": "stream",
          "name": "stdout",
          "text": [
            "                 palavra  tamanho         z\n",
            "283   imperceptivelmente       18  4.660545\n",
            "1988   irremissivelmente       17  4.213642\n",
            "2250  perpendicularmente       18  4.660545\n",
            "2764   involuntariamente       17  4.213642\n",
            "3147  incontestavelmente       18  4.660545\n",
            "4308   irremediavelmente       17  4.213642\n"
          ]
        }
      ]
    },
    {
      "cell_type": "code",
      "metadata": {
        "colab": {
          "base_uri": "https://localhost:8080/"
        },
        "id": "JlCGBr-MNQZp",
        "outputId": "687cb051-26c4-46e1-e382-dd6faf96b00a"
      },
      "source": [
        "# Intervalos (baldes)\n",
        "\n",
        "baldes = df.tamanho.value_counts(normalize=True, bins=6)\n",
        "print(baldes)"
      ],
      "execution_count": null,
      "outputs": [
        {
          "output_type": "stream",
          "name": "stdout",
          "text": [
            "(6.667, 9.5]        0.478769\n",
            "(3.833, 6.667]      0.308455\n",
            "(9.5, 12.333]       0.170221\n",
            "(0.982, 3.833]      0.023195\n",
            "(12.333, 15.167]    0.018238\n",
            "(15.167, 18.0]      0.001122\n",
            "Name: proportion, dtype: float64\n"
          ]
        }
      ]
    },
    {
      "cell_type": "code",
      "metadata": {
        "colab": {
          "base_uri": "https://localhost:8080/",
          "height": 452
        },
        "id": "cnZhnbvSBQh7",
        "outputId": "9af06d29-97b6-4718-cefd-b7f8e7db9d8c"
      },
      "source": [
        "# Geração de histogramas para exibição da distribuição\n",
        "\n",
        "hist = df.hist(bins=6)"
      ],
      "execution_count": null,
      "outputs": [
        {
          "output_type": "display_data",
          "data": {
            "text/plain": [
              "<figure size="" 640x480="" with="" 2="" axes="">"
            ],
            "image/png": 
"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\n"

          },
          "metadata": {}
        }
      ]
    },
    {
      "cell_type": "markdown",
      "source": [
        "# Exercício\n",
        "\n",
        "Repita os procedimentos de tokenização e cálculo da Pontuação 
Média para o tamanho das sentenças. Dica: use o tokenizador de sentenças
 do NLTK."
      ],
      "metadata": {
        "id": "YcLj5KqCumPq"
      }
    },
    {
      "cell_type": "code",
      "metadata": {
        "id": "JXpqzZb3WV01"
      },
      "source": [
        "# Tokenização de sentenças\n",
        "\n",
        "def tokenizar_sentencas(txt: str) -&gt; list:\n",
        "    txt = txt.replace('\\n', ' ')\n",
        "    return sent_tokenize(txt, language='portuguese')"
      ],
      "execution_count": null,
      "outputs": []
    },
    {
      "cell_type": "markdown",
      "source": [
        "\n",
        "---\n",
        "\n",
        "\n",
        "**Pode ser útil...**"
      ],
      "metadata": {
        "id": "EqlB4pBeBAJv"
      }
    },
    {
      "cell_type": "code",
      "metadata": {
        "id": "ghr3BdQwNQZz",
        "colab": {
          "base_uri": "https://localhost:8080/"
        },
        "outputId": "31e96884-2c2d-44ad-b1c7-74e3ea6de3e4"
      },
      "source": [
        "# Método tolist(): gera uma lista com os resultados\n",
        "\n",
        "df.query('z &gt; 4').values.tolist()[-1]"
      ],
      "execution_count": null,
      "outputs": [
        {
          "output_type": "execute_result",
          "data": {
            "text/plain": [
              "['As almas grandes têm esse privilégio; suas ações, que 
nos outros inspiram a admiração, se aniquilam em face dessa nobreza 
inata do coração superior, para o qual tudo é natural e possível Quando 
Peri ergueu a cabeça, estava radiante de felicidade e orgulho; 
felicidade por salvar sua senhora; orgulho pela consciência de que ele 
só bastava para fazer o que cinqüenta homens não fariam; o que o próprio
 pai, o amante, não conseguiriam nunca.',\n",
              " 439,\n",
              " 4.066449549356389]"
            ]
          },
          "metadata": {},
          "execution_count": 40
        }
      ]
    },
    {
      "cell_type": "code",
      "metadata": {
        "id": "J4dne68HhyCz",
        "colab": {
          "base_uri": "https://localhost:8080/",
          "height": 423
        },
        "outputId": "e19e77f7-6795-460a-f64b-0684f40c7521"
      },
      "source": [
        "# Método str.contains(): Busca uma substring na coluna 
indicada\n",
        "\n",
        "df_x = df[df['sent'].str.contains('Cecília') == True]\n",
        "df_x"
      ],
      "execution_count": null,
      "outputs": [
        {
          "output_type": "execute_result",
          "data": {
            "text/plain": [
              "                                                   sent  
tamanho         z\n",
              "104   Sua filha, D. Cecília, que tinha dezoito anos,...  
    183  0.931410\n",
              "288                              Esta moça era Cecília.  
     22 -1.040236\n",
              "298   Era um tipo inteiramente diferente do de Cecíl...  
    183  0.931410\n",
              "300   Ela parou em face de Cecília meio deitada sobr...  
    249  1.739662\n",
              "302   Cecília, sentindo um estremecimento, abriu os ...  
     76 -0.378939\n",
              "...                                                 ...  
    ...       ...\n",
              "5721  A cúpula da palmeira, em que se achavam Peri e...  
    282  2.143789\n",
              "5722  Cecília esperava o seu último momento com a su...  
    206  1.213074\n",
              "5755  Cecília o ouvia sorrindo, e bebia uma a uma as...  
    295  2.302990\n",
              "5756  A água subindo molhou as pontas das largas fol...  
    152  0.551776\n",
              "5766  Cecília abriu os olhos, e vendo seu amigo junt...  
    134  0.331344\n",
              "\n",
              "[458 rows x 3 columns]"
            ],
            "text/html": [
              "\n",
              "  <div id="\&quot;df-33ea40b2-b07c-48a1-8376-2a81a62d062b\&quot;" class="\&quot;colab-df-container\&quot;">\n",
              "    <div>\n",
              "<style scoped="">\n",
              "    .dataframe tbody tr th:only-of-type {\n",
              "        vertical-align: middle;\n",
              "    }\n",
              "\n",
              "    .dataframe tbody tr th {\n",
              "        vertical-align: top;\n",
              "    }\n",
              "\n",
              "    .dataframe thead th {\n",
              "        text-align: right;\n",
              "    }\n",
              "</style>\n",
              "\n",
              "  \n",
              "    \n",
              "      \n",
              "      \n",
              "      \n",
              "      \n",
              "    \n",
              "  \n",
              "  \n",
              "    \n",
              "      \n",
              "      \n",
              "      \n",
              "      \n",
              "    \n",
              "    \n",
              "      \n",
              "      \n",
              "      \n",
              "      \n",
              "    \n",
              "    \n",
              "      \n",
              "      \n",
              "      \n",
              "      \n",
              "    \n",
              "    \n",
              "      \n",
              "      \n",
              "      \n",
              "      \n",
              "    \n",
              "    \n",
              "      \n",
              "      \n",
              "      \n",
              "      \n",
              "    \n",
              "    \n",
              "      \n",
              "      \n",
              "      \n",
              "      \n",
              "    \n",
              "    \n",
              "      \n",
              "      \n",
              "      \n",
              "      \n",
              "    \n",
              "    \n",
              "      \n",
              "      \n",
              "      \n",
              "      \n",
              "    \n",
              "    \n",
              "      \n",
              "      \n",
              "      \n",
              "      \n",
              "    \n",
              "    \n",
              "      \n",
              "      \n",
              "      \n",
              "      \n",
              "    \n",
              "    \n",
              "      \n",
              "      \n",
              "      \n",
              "      \n",
              "    \n",
              "  \n",
              "<table border="\&quot;1\&quot;" class="\&quot;dataframe\&quot;"><thead><tr style="\&quot;text-align:" right;\"=""><th></th><th>sent</th><th>tamanho</th><th>z</th></tr></thead><tbody><tr><th>104</th><td>Sua filha, D. Cecília, que tinha dezoito anos,...</td><td>183</td><td>0.931410</td></tr><tr><th>288</th><td>Esta moça era Cecília.</td><td>22</td><td>-1.040236</td></tr><tr><th>298</th><td>Era um tipo inteiramente diferente do de Cecíl...</td><td>183</td><td>0.931410</td></tr><tr><th>300</th><td>Ela parou em face de Cecília meio deitada sobr...</td><td>249</td><td>1.739662</td></tr><tr><th>302</th><td>Cecília, sentindo um estremecimento, abriu os ...</td><td>76</td><td>-0.378939</td></tr><tr><th>...</th><td>...</td><td>...</td><td>...</td></tr><tr><th>5721</th><td>A cúpula da palmeira, em que se achavam Peri e...</td><td>282</td><td>2.143789</td></tr><tr><th>5722</th><td>Cecília esperava o seu último momento com a su...</td><td>206</td><td>1.213074</td></tr><tr><th>5755</th><td>Cecília o ouvia sorrindo, e bebia uma a uma as...</td><td>295</td><td>2.302990</td></tr><tr><th>5756</th><td>A água subindo molhou as pontas das largas fol...</td><td>152</td><td>0.551776</td></tr><tr><th>5766</th><td>Cecília abriu os olhos, e vendo seu amigo junt...</td><td>134</td><td>0.331344</td></tr></tbody></table>\n",
              "<p>458 rows × 3 columns</p>\n",
              "</div>\n",
              "    <div class="\&quot;colab-df-buttons\&quot;">\n",
              "\n",
              "  <div class="\&quot;colab-df-container\&quot;">\n",
              "    <button class="\&quot;colab-df-convert\&quot;" onclick="\&quot;convertToInteractive('df-33ea40b2-b07c-48a1-8376-2a81a62d062b')\&quot;\n&quot;," "="" title="\&quot;Convert" this="" dataframe="" to="" an="" interactive="" table.\"\n",="" style="\&quot;display:none;\&quot;">\n",
              "\n",
              "  <svg xmlns="\&quot;http://www.w3.org/2000/svg\&quot;" height="\&quot;24px\&quot;" viewBox="\&quot;0" -960="" 960="" 960\"="">\n",
              "    <path d="\&quot;M120-120v-720h720v720H120Zm60-500h600v-160H180v160Zm220" 220h160v-160h400v160zm0="" 220h160v-160h400v160zm180-400h160v-160h180v160zm440="" 0h160v-160h620v160zm180-180h160v-160h180v160zm440="" 0h160v-160h620v160z\"=""></path>\n",
              "  </svg>\n",
              "    </button>\n",
              "\n",
              "  <style>\n",
              "    .colab-df-container {\n",
              "      display:flex;\n",
              "      gap: 12px;\n",
              "    }\n",
              "\n",
              "    .colab-df-convert {\n",
              "      background-color: #E8F0FE;\n",
              "      border: none;\n",
              "      border-radius: 50%;\n",
              "      cursor: pointer;\n",
              "      display: none;\n",
              "      fill: #1967D2;\n",
              "      height: 32px;\n",
              "      padding: 0 0 0 0;\n",
              "      width: 32px;\n",
              "    }\n",
              "\n",
              "    .colab-df-convert:hover {\n",
              "      background-color: #E2EBFA;\n",
              "      box-shadow: 0px 1px 2px rgba(60, 64, 67, 0.3), 0px 1px 3px 1px rgba(60, 64, 67, 0.15);\n",
              "      fill: #174EA6;\n",
              "    }\n",
              "\n",
              "    .colab-df-buttons div {\n",
              "      margin-bottom: 4px;\n",
              "    }\n",
              "\n",
              "    [theme=dark] .colab-df-convert {\n",
              "      background-color: #3B4455;\n",
              "      fill: #D2E3FC;\n",
              "    }\n",
              "\n",
              "    [theme=dark] .colab-df-convert:hover {\n",
              "      background-color: #434B5C;\n",
              "      box-shadow: 0px 1px 3px 1px rgba(0, 0, 0, 0.15);\n",
              "      filter: drop-shadow(0px 1px 2px rgba(0, 0, 0, 0.3));\n",
              "      fill: #FFFFFF;\n",
              "    }\n",
              "  </style>\n",
              "\n",
              "    <script>\n",
              "      const buttonEl =\n",
              "        document.querySelector('#df-33ea40b2-b07c-48a1-8376-2a81a62d062b button.colab-df-convert');\n",
              "      buttonEl.style.display =\n",
              "        google.colab.kernel.accessAllowed ? 'block' : 'none';\n",
              "\n",
              "      async function convertToInteractive(key) {\n",
              "        const element = document.querySelector('#df-33ea40b2-b07c-48a1-8376-2a81a62d062b');\n",
              "        const dataTable =\n",
              "          await google.colab.kernel.invokeFunction('convertToInteractive',\n",
              "                                                    [key], {});\n",
              "        if (!dataTable) return;\n",
              "\n",
              "        const docLinkHtml = 'Like what you see? Visit the ' +\n",
              "          '<a target=\"_blank\" href=https://colab.research.google.com/notebooks/data_table.ipynb>data table notebook</a>'\n",
              "          + ' to learn more about interactive tables.';\n",
              "        element.innerHTML = '';\n",
              "        dataTable['output_type'] = 'display_data';\n",
              "        await google.colab.output.renderOutput(dataTable, element);\n",
              "        const docLink = document.createElement('div');\n",
              "        docLink.innerHTML = docLinkHtml;\n",
              "        element.appendChild(docLink);\n",
              "      }\n",
              "    </script>\n",
              "  </div>\n",
              "\n",
              "\n",
              "<div id="\&quot;df-bd1e62e4-e6a2-4658-ae7e-83312aa7256b\&quot;">\n",
              "  <button class="\&quot;colab-df-quickchart\&quot;" onclick="\&quot;quickchart('df-bd1e62e4-e6a2-4658-ae7e-83312aa7256b')\&quot;\n&quot;," "="" title="\&quot;Suggest" charts\"\n",="" style="\&quot;display:none;\&quot;">\n",
              "\n",
              "<svg xmlns="\&quot;http://www.w3.org/2000/svg\&quot;" height="\&quot;24px\&quot;viewBox=\&quot;0" 0="" 24="" 24\"\n",="" "="" width="\&quot;24px\&quot;">\n",
              "    <g>\n",
              "        <path d="\&quot;M19" 3h5c-1.1="" 0-2="" .9-2="" 2v14c0="" 1.1.9="" 2="" 2h14c1.1="" 0="" 2-.9="" 2-2v5c0-1.1-.9-2-2-2zm9="" 17h7v-7h2v7zm4="" 0h-2v7h2v10zm4="" 0h-2v-4h2v4z\"=""></path>\n",
              "    </g>\n",
              "</svg>\n",
              "  </button>\n",
              "\n",
              "<style>\n",
              "  .colab-df-quickchart {\n",
              "      --bg-color: #E8F0FE;\n",
              "      --fill-color: #1967D2;\n",
              "      --hover-bg-color: #E2EBFA;\n",
              "      --hover-fill-color: #174EA6;\n",
              "      --disabled-fill-color: #AAA;\n",
              "      --disabled-bg-color: #DDD;\n",
              "  }\n",
              "\n",
              "  [theme=dark] .colab-df-quickchart {\n",
              "      --bg-color: #3B4455;\n",
              "      --fill-color: #D2E3FC;\n",
              "      --hover-bg-color: #434B5C;\n",
              "      --hover-fill-color: #FFFFFF;\n",
              "      --disabled-bg-color: #3B4455;\n",
              "      --disabled-fill-color: #666;\n",
              "  }\n",
              "\n",
              "  .colab-df-quickchart {\n",
              "    background-color: var(--bg-color);\n",
              "    border: none;\n",
              "    border-radius: 50%;\n",
              "    cursor: pointer;\n",
              "    display: none;\n",
              "    fill: var(--fill-color);\n",
              "    height: 32px;\n",
              "    padding: 0;\n",
              "    width: 32px;\n",
              "  }\n",
              "\n",
              "  .colab-df-quickchart:hover {\n",
              "    background-color: var(--hover-bg-color);\n",
              "    box-shadow: 0 1px 2px rgba(60, 64, 67, 0.3), 0 1px 3px 1px rgba(60, 64, 67, 0.15);\n",
              "    fill: var(--button-hover-fill-color);\n",
              "  }\n",
              "\n",
              "  .colab-df-quickchart-complete:disabled,\n",
              "  .colab-df-quickchart-complete:disabled:hover {\n",
              "    background-color: var(--disabled-bg-color);\n",
              "    fill: var(--disabled-fill-color);\n",
              "    box-shadow: none;\n",
              "  }\n",
              "\n",
              "  .colab-df-spinner {\n",
              "    border: 2px solid var(--fill-color);\n",
              "    border-color: transparent;\n",
              "    border-bottom-color: var(--fill-color);\n",
              "    animation:\n",
              "      spin 1s steps(1) infinite;\n",
              "  }\n",
              "\n",
              "  @keyframes spin {\n",
              "    0% {\n",
              "      border-color: transparent;\n",
              "      border-bottom-color: var(--fill-color);\n",
              "      border-left-color: var(--fill-color);\n",
              "    }\n",
              "    20% {\n",
              "      border-color: transparent;\n",
              "      border-left-color: var(--fill-color);\n",
              "      border-top-color: var(--fill-color);\n",
              "    }\n",
              "    30% {\n",
              "      border-color: transparent;\n",
              "      border-left-color: var(--fill-color);\n",
              "      border-top-color: var(--fill-color);\n",
              "      border-right-color: var(--fill-color);\n",
              "    }\n",
              "    40% {\n",
              "      border-color: transparent;\n",
              "      border-right-color: var(--fill-color);\n",
              "      border-top-color: var(--fill-color);\n",
              "    }\n",
              "    60% {\n",
              "      border-color: transparent;\n",
              "      border-right-color: var(--fill-color);\n",
              "    }\n",
              "    80% {\n",
              "      border-color: transparent;\n",
              "      border-right-color: var(--fill-color);\n",
              "      border-bottom-color: var(--fill-color);\n",
              "    }\n",
              "    90% {\n",
              "      border-color: transparent;\n",
              "      border-bottom-color: var(--fill-color);\n",
              "    }\n",
              "  }\n",
              "</style>\n",
              "\n",
              "  <script>\n",
              "    async function quickchart(key) {\n",
              "      const quickchartButtonEl =\n",
              "        document.querySelector('#' + key + ' button');\n",
              "      quickchartButtonEl.disabled = true;  // To prevent multiple clicks.\n",
              "      quickchartButtonEl.classList.add('colab-df-spinner');\n",
              "      try {\n",
              "        const charts = await google.colab.kernel.invokeFunction(\n",
              "            'suggestCharts', [key], {});\n",
              "      } catch (error) {\n",
              "        console.error('Error during call to suggestCharts:', error);\n",
              "      }\n",
              "      quickchartButtonEl.classList.remove('colab-df-spinner');\n",
              "      quickchartButtonEl.classList.add('colab-df-quickchart-complete');\n",
              "    }\n",
              "    (() => {\n",
              "      let quickchartButtonEl =\n",
              "        document.querySelector('#df-bd1e62e4-e6a2-4658-ae7e-83312aa7256b button');\n",
              "      quickchartButtonEl.style.display =\n",
              "        google.colab.kernel.accessAllowed ? 'block' : 'none';\n",
              "    })();\n",
              "  </script>\n",
              "</div>\n",
              "\n",
              "  <div id="\&quot;id_b7faa8de-a545-45ca-968f-922c8d8e064e\&quot;">\n",
              "    <style>\n",
              "      .colab-df-generate {\n",
              "        background-color: #E8F0FE;\n",
              "        border: none;\n",
              "        border-radius: 50%;\n",
              "        cursor: pointer;\n",
              "        display: none;\n",
              "        fill: #1967D2;\n",
              "        height: 32px;\n",
              "        padding: 0 0 0 0;\n",
              "        width: 32px;\n",
              "      }\n",
              "\n",
              "      .colab-df-generate:hover {\n",
              "        background-color: #E2EBFA;\n",
              "        box-shadow: 0px 1px 2px rgba(60, 64, 67, 0.3), 0px 1px 3px 1px rgba(60, 64, 67, 0.15);\n",
              "        fill: #174EA6;\n",
              "      }\n",
              "\n",
              "      [theme=dark] .colab-df-generate {\n",
              "        background-color: #3B4455;\n",
              "        fill: #D2E3FC;\n",
              "      }\n",
              "\n",
              "      [theme=dark] .colab-df-generate:hover {\n",
              "        background-color: #434B5C;\n",
              "        box-shadow: 0px 1px 3px 1px rgba(0, 0, 0, 0.15);\n",
              "        filter: drop-shadow(0px 1px 2px rgba(0, 0, 0, 0.3));\n",
              "        fill: #FFFFFF;\n",
              "      }\n",
              "    </style>\n",
              "    <button class="\&quot;colab-df-generate\&quot;" onclick="\&quot;generateWithVariable('df_x')\&quot;\n&quot;," "="" title="\&quot;Generate" code="" using="" this="" dataframe.\"\n",="" style="\&quot;display:none;\&quot;">\n",
              "\n",
              "  <svg xmlns="\&quot;http://www.w3.org/2000/svg\&quot;" height="\&quot;24px\&quot;viewBox=\&quot;0" 0="" 24="" 24\"\n",="" "="" width="\&quot;24px\&quot;">\n",
              "    <path d="\&quot;M7,19H8.4L18.45,9,17,7.55,7,17.6ZM5,21V16.75L18.45,3.32a2,2,0,0,1,2.83,0l1.4,1.43a1.91,1.91,0,0,1,.58,1.4,1.91,1.91,0,0,1-.58,1.4L9.25,21ZM18.45,9,17,7.55Zm-12,3A5.31,5.31,0,0,0,4.9,8.1,5.31,5.31,0,0,0,1,6.5,5.31,5.31,0,0,0,4.9,4.9,5.31,5.31,0,0,0,6.5,1,5.31,5.31,0,0,0,8.1,4.9,5.31,5.31,0,0,0,12,6.5,5.46,5.46,0,0,0,6.5,12Z\&quot;/">\n",
              "  </path></svg>\n",
              "    </button>\n",
              "    <script>\n",
              "      (() => {\n",
              "      const buttonEl =\n",
              "        document.querySelector('#id_b7faa8de-a545-45ca-968f-922c8d8e064e button.colab-df-generate');\n",
              "      buttonEl.style.display =\n",
              "        google.colab.kernel.accessAllowed ? 'block' : 'none';\n",
              "\n",
              "      buttonEl.onclick = () => {\n",
              "        google.colab.notebook.generateWithVariable('df_x');\n",
              "      }\n",
              "      })();\n",
              "    </script>\n",
              "  </div>\n",
              "\n",
              "    </div>\n",
              "  </div>\n"
            ],
            "application/vnd.google.colaboratory.intrinsic+json": {
              "type": "dataframe",
              "variable_name": "df_x",
              "summary": "{\n  \"name\": \"df_x\",\n  \"rows\": 458,\n  
\"fields\": [\n    {\n      \"column\": \"sent\",\n      \"properties\":
 {\n        \"dtype\": \"string\",\n        \"num_unique_values\": 
457,\n        \"samples\": [\n          \"Mas lembra-te que se tu 
morreres, Cec\\u00edlia n\\u00e3o aceitar\\u00e1 a vida que lhe 
deres.\",\n          \"Com uma ligeireza extraordin\\u00e1ria ganhou o 
outro lado da \\u00e1rvore e, escondido pela folhagem, aproximou-se 
at\\u00e9 um galho que ficava fronteiro das janelas de Cec\\u00edlia 
cerca de uma bra\\u00e7a.\",\n          \"Peri sorriu como da primeira 
vez; tomando a m\\u00e3o da menina a fez sentar perto dele, e tirou do 
pesco\\u00e7o a cruz de ouro que Cec\\u00edlia lhe havia dado.\"\n      
  ],\n        \"semantic_type\": \"\",\n        \"description\": \"\"\n 
     }\n    },\n    {\n      \"column\": \"tamanho\",\n      
\"properties\": {\n        \"dtype\": \"number\",\n        \"std\": 
73,\n        \"min\": 12,\n        \"max\": 359,\n        
\"num_unique_values\": 218,\n        \"samples\": [\n          202,\n   
       78,\n          17\n        ],\n        \"semantic_type\": \"\",\n
        \"description\": \"\"\n      }\n    },\n    {\n      \"column\":
 \"z\",\n      \"properties\": {\n        \"dtype\": \"number\",\n      
  \"std\": 0.903342980474228,\n        \"min\": -1.1626983852412076,\n  
      \"max\": 3.086749702124989,\n        \"num_unique_values\": 218,\n
        \"samples\": [\n          1.164088751933367,\n          
-0.3544460112753028,\n          -1.101467144789245\n        ],\n        
\"semantic_type\": \"\",\n        \"description\": \"\"\n      }\n    
}\n  ]\n}"
            }
          },
          "metadata": {},
          "execution_count": 41
        }
      ]
    },
    {
      "cell_type": "markdown",
      "source": [
        "\n",
        "---\n"
      ],
      "metadata": {
        "id": "KZd2L2QkBJmZ"
      }
    }
  ]
}</figure></ipython.core.display.html></body></html>